{
 "cells": [
  {
   "cell_type": "code",
   "execution_count": 2,
   "metadata": {},
   "outputs": [],
   "source": [
    "%load_ext autoreload\n",
    "%autoreload 2"
   ]
  },
  {
   "cell_type": "code",
   "execution_count": 3,
   "metadata": {},
   "outputs": [],
   "source": [
    "import numpy as np\n",
    "\n",
    "import matplotlib.pyplot as plt\n",
    "import seaborn as sns\n",
    "sns.set()"
   ]
  },
  {
   "cell_type": "markdown",
   "metadata": {},
   "source": [
    "Let's say that we have simple linear regression.\n",
    "\n",
    "So we think our data is modeled by:\n",
    "\n",
    "$$y=mx+b$$\n",
    "\n",
    "Or, using $\\beta$ notation:\n",
    "\n",
    "$$y=\\beta_0+\\beta_1x$$\n",
    "\n",
    "Let's say our cost function is RSS: residual sum of squares.\n",
    "\n",
    "$$RSS = \\sum_{i=0}^\\infty (y_i - \\hat{y_i})^2 = \\sum_{i=0}^\\infty (y_i - (\\beta_0+\\beta_1x))^2$$"
   ]
  },
  {
   "cell_type": "code",
   "execution_count": null,
   "metadata": {},
   "outputs": [],
   "source": [
    "def gradient()"
   ]
  }
 ],
 "metadata": {
  "kernelspec": {
   "display_name": "Python 3",
   "language": "python",
   "name": "python3"
  },
  "language_info": {
   "codemirror_mode": {
    "name": "ipython",
    "version": 3
   },
   "file_extension": ".py",
   "mimetype": "text/x-python",
   "name": "python",
   "nbconvert_exporter": "python",
   "pygments_lexer": "ipython3",
   "version": "3.7.3"
  }
 },
 "nbformat": 4,
 "nbformat_minor": 2
}
