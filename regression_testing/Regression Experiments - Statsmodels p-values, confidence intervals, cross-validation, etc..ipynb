{
 "cells": [
  {
   "cell_type": "code",
   "execution_count": 6,
   "metadata": {},
   "outputs": [],
   "source": [
    "%load_ext autoreload\n",
    "%autoreload 2"
   ]
  },
  {
   "cell_type": "code",
   "execution_count": 48,
   "metadata": {},
   "outputs": [
    {
     "name": "stderr",
     "output_type": "stream",
     "text": [
      "/anaconda3/lib/python3.7/importlib/_bootstrap.py:219: RuntimeWarning: numpy.ufunc size changed, may indicate binary incompatibility. Expected 192 from C header, got 216 from PyObject\n",
      "  return f(*args, **kwds)\n"
     ]
    }
   ],
   "source": [
    "import numpy as np\n",
    "import pandas as pd\n",
    "from sklearn.datasets import make_regression, make_friedman1\n",
    "from statsmodels.formula.api import ols\n",
    "import statsmodels.api as sm\n",
    "\n",
    "import matplotlib.pyplot as plt\n",
    "import seaborn as sns\n",
    "sns.set()"
   ]
  },
  {
   "cell_type": "code",
   "execution_count": 25,
   "metadata": {},
   "outputs": [],
   "source": [
    "X1, y1 = make_regression(n_samples=100, n_features=1, n_informative=1, noise=1, random_state=42)\n",
    "X2, y2 = make_regression(n_samples=100, n_features=1, n_informative=1, noise=10, random_state=42)\n",
    "X3, y3 = make_regression(n_samples=100, n_features=1, n_informative=1, noise=100, random_state=42)\n",
    "Xf_1, yf_1 = make_friedman1(n_samples=100, n_features=5, noise=1, random_state=42)\n",
    "Xf_2, yf_2 = make_friedman1(n_samples=100, n_features=5, noise=10, random_state=42)\n",
    "Xf_3, yf_3 = make_friedman1(n_samples=100, n_features=5, noise=100, random_state=42)"
   ]
  },
  {
   "cell_type": "code",
   "execution_count": 28,
   "metadata": {},
   "outputs": [
    {
     "data": {
      "text/html": [
       "<table class=\"simpletable\">\n",
       "<caption>OLS Regression Results</caption>\n",
       "<tr>\n",
       "  <th>Dep. Variable:</th>            <td>y</td>        <th>  R-squared:         </th> <td>   0.999</td> \n",
       "</tr>\n",
       "<tr>\n",
       "  <th>Model:</th>                   <td>OLS</td>       <th>  Adj. R-squared:    </th> <td>   0.999</td> \n",
       "</tr>\n",
       "<tr>\n",
       "  <th>Method:</th>             <td>Least Squares</td>  <th>  F-statistic:       </th> <td>1.819e+05</td>\n",
       "</tr>\n",
       "<tr>\n",
       "  <th>Date:</th>             <td>Sun, 22 Sep 2019</td> <th>  Prob (F-statistic):</th> <td>2.04e-163</td>\n",
       "</tr>\n",
       "<tr>\n",
       "  <th>Time:</th>                 <td>15:34:57</td>     <th>  Log-Likelihood:    </th> <td> -130.36</td> \n",
       "</tr>\n",
       "<tr>\n",
       "  <th>No. Observations:</th>      <td>   100</td>      <th>  AIC:               </th> <td>   262.7</td> \n",
       "</tr>\n",
       "<tr>\n",
       "  <th>Df Residuals:</th>          <td>    99</td>      <th>  BIC:               </th> <td>   265.3</td> \n",
       "</tr>\n",
       "<tr>\n",
       "  <th>Df Model:</th>              <td>     1</td>      <th>                     </th>     <td> </td>    \n",
       "</tr>\n",
       "<tr>\n",
       "  <th>Covariance Type:</th>      <td>nonrobust</td>    <th>                     </th>     <td> </td>    \n",
       "</tr>\n",
       "</table>\n",
       "<table class=\"simpletable\">\n",
       "<tr>\n",
       "   <td></td>     <th>coef</th>     <th>std err</th>      <th>t</th>      <th>P>|t|</th>  <th>[0.025</th>    <th>0.975]</th>  \n",
       "</tr>\n",
       "<tr>\n",
       "  <th>x1</th> <td>   41.9961</td> <td>    0.098</td> <td>  426.546</td> <td> 0.000</td> <td>   41.801</td> <td>   42.191</td>\n",
       "</tr>\n",
       "</table>\n",
       "<table class=\"simpletable\">\n",
       "<tr>\n",
       "  <th>Omnibus:</th>       <td> 0.072</td> <th>  Durbin-Watson:     </th> <td>   1.834</td>\n",
       "</tr>\n",
       "<tr>\n",
       "  <th>Prob(Omnibus):</th> <td> 0.965</td> <th>  Jarque-Bera (JB):  </th> <td>   0.105</td>\n",
       "</tr>\n",
       "<tr>\n",
       "  <th>Skew:</th>          <td> 0.059</td> <th>  Prob(JB):          </th> <td>   0.949</td>\n",
       "</tr>\n",
       "<tr>\n",
       "  <th>Kurtosis:</th>      <td> 2.894</td> <th>  Cond. No.          </th> <td>    1.00</td>\n",
       "</tr>\n",
       "</table><br/><br/>Warnings:<br/>[1] Standard Errors assume that the covariance matrix of the errors is correctly specified."
      ],
      "text/plain": [
       "<class 'statsmodels.iolib.summary.Summary'>\n",
       "\"\"\"\n",
       "                            OLS Regression Results                            \n",
       "==============================================================================\n",
       "Dep. Variable:                      y   R-squared:                       0.999\n",
       "Model:                            OLS   Adj. R-squared:                  0.999\n",
       "Method:                 Least Squares   F-statistic:                 1.819e+05\n",
       "Date:                Sun, 22 Sep 2019   Prob (F-statistic):          2.04e-163\n",
       "Time:                        15:34:57   Log-Likelihood:                -130.36\n",
       "No. Observations:                 100   AIC:                             262.7\n",
       "Df Residuals:                      99   BIC:                             265.3\n",
       "Df Model:                           1                                         \n",
       "Covariance Type:            nonrobust                                         \n",
       "==============================================================================\n",
       "                 coef    std err          t      P>|t|      [0.025      0.975]\n",
       "------------------------------------------------------------------------------\n",
       "x1            41.9961      0.098    426.546      0.000      41.801      42.191\n",
       "==============================================================================\n",
       "Omnibus:                        0.072   Durbin-Watson:                   1.834\n",
       "Prob(Omnibus):                  0.965   Jarque-Bera (JB):                0.105\n",
       "Skew:                           0.059   Prob(JB):                        0.949\n",
       "Kurtosis:                       2.894   Cond. No.                         1.00\n",
       "==============================================================================\n",
       "\n",
       "Warnings:\n",
       "[1] Standard Errors assume that the covariance matrix of the errors is correctly specified.\n",
       "\"\"\""
      ]
     },
     "execution_count": 28,
     "metadata": {},
     "output_type": "execute_result"
    }
   ],
   "source": [
    "model1 = sm.OLS(y1, X1)\n",
    "model_fit1 = model1.fit()\n",
    "model_fit.summary()"
   ]
  },
  {
   "cell_type": "code",
   "execution_count": 29,
   "metadata": {},
   "outputs": [
    {
     "data": {
      "text/html": [
       "<table class=\"simpletable\">\n",
       "<caption>OLS Regression Results</caption>\n",
       "<tr>\n",
       "  <th>Dep. Variable:</th>            <td>y</td>        <th>  R-squared:         </th> <td>   0.953</td>\n",
       "</tr>\n",
       "<tr>\n",
       "  <th>Model:</th>                   <td>OLS</td>       <th>  Adj. R-squared:    </th> <td>   0.953</td>\n",
       "</tr>\n",
       "<tr>\n",
       "  <th>Method:</th>             <td>Least Squares</td>  <th>  F-statistic:       </th> <td>   2024.</td>\n",
       "</tr>\n",
       "<tr>\n",
       "  <th>Date:</th>             <td>Sun, 22 Sep 2019</td> <th>  Prob (F-statistic):</th> <td>1.04e-67</td>\n",
       "</tr>\n",
       "<tr>\n",
       "  <th>Time:</th>                 <td>15:35:08</td>     <th>  Log-Likelihood:    </th> <td> -360.62</td>\n",
       "</tr>\n",
       "<tr>\n",
       "  <th>No. Observations:</th>      <td>   100</td>      <th>  AIC:               </th> <td>   723.2</td>\n",
       "</tr>\n",
       "<tr>\n",
       "  <th>Df Residuals:</th>          <td>    99</td>      <th>  BIC:               </th> <td>   725.8</td>\n",
       "</tr>\n",
       "<tr>\n",
       "  <th>Df Model:</th>              <td>     1</td>      <th>                     </th>     <td> </td>   \n",
       "</tr>\n",
       "<tr>\n",
       "  <th>Covariance Type:</th>      <td>nonrobust</td>    <th>                     </th>     <td> </td>   \n",
       "</tr>\n",
       "</table>\n",
       "<table class=\"simpletable\">\n",
       "<tr>\n",
       "   <td></td>     <th>coef</th>     <th>std err</th>      <th>t</th>      <th>P>|t|</th>  <th>[0.025</th>    <th>0.975]</th>  \n",
       "</tr>\n",
       "<tr>\n",
       "  <th>x1</th> <td>   44.2909</td> <td>    0.985</td> <td>   44.985</td> <td> 0.000</td> <td>   42.337</td> <td>   46.245</td>\n",
       "</tr>\n",
       "</table>\n",
       "<table class=\"simpletable\">\n",
       "<tr>\n",
       "  <th>Omnibus:</th>       <td> 0.072</td> <th>  Durbin-Watson:     </th> <td>   1.834</td>\n",
       "</tr>\n",
       "<tr>\n",
       "  <th>Prob(Omnibus):</th> <td> 0.965</td> <th>  Jarque-Bera (JB):  </th> <td>   0.105</td>\n",
       "</tr>\n",
       "<tr>\n",
       "  <th>Skew:</th>          <td> 0.059</td> <th>  Prob(JB):          </th> <td>   0.949</td>\n",
       "</tr>\n",
       "<tr>\n",
       "  <th>Kurtosis:</th>      <td> 2.894</td> <th>  Cond. No.          </th> <td>    1.00</td>\n",
       "</tr>\n",
       "</table><br/><br/>Warnings:<br/>[1] Standard Errors assume that the covariance matrix of the errors is correctly specified."
      ],
      "text/plain": [
       "<class 'statsmodels.iolib.summary.Summary'>\n",
       "\"\"\"\n",
       "                            OLS Regression Results                            \n",
       "==============================================================================\n",
       "Dep. Variable:                      y   R-squared:                       0.953\n",
       "Model:                            OLS   Adj. R-squared:                  0.953\n",
       "Method:                 Least Squares   F-statistic:                     2024.\n",
       "Date:                Sun, 22 Sep 2019   Prob (F-statistic):           1.04e-67\n",
       "Time:                        15:35:08   Log-Likelihood:                -360.62\n",
       "No. Observations:                 100   AIC:                             723.2\n",
       "Df Residuals:                      99   BIC:                             725.8\n",
       "Df Model:                           1                                         \n",
       "Covariance Type:            nonrobust                                         \n",
       "==============================================================================\n",
       "                 coef    std err          t      P>|t|      [0.025      0.975]\n",
       "------------------------------------------------------------------------------\n",
       "x1            44.2909      0.985     44.985      0.000      42.337      46.245\n",
       "==============================================================================\n",
       "Omnibus:                        0.072   Durbin-Watson:                   1.834\n",
       "Prob(Omnibus):                  0.965   Jarque-Bera (JB):                0.105\n",
       "Skew:                           0.059   Prob(JB):                        0.949\n",
       "Kurtosis:                       2.894   Cond. No.                         1.00\n",
       "==============================================================================\n",
       "\n",
       "Warnings:\n",
       "[1] Standard Errors assume that the covariance matrix of the errors is correctly specified.\n",
       "\"\"\""
      ]
     },
     "execution_count": 29,
     "metadata": {},
     "output_type": "execute_result"
    }
   ],
   "source": [
    "model2 = sm.OLS(y2, X2)\n",
    "model_fit2 = model2.fit()\n",
    "model_fit2.summary()"
   ]
  },
  {
   "cell_type": "code",
   "execution_count": 30,
   "metadata": {},
   "outputs": [
    {
     "data": {
      "text/html": [
       "<table class=\"simpletable\">\n",
       "<caption>OLS Regression Results</caption>\n",
       "<tr>\n",
       "  <th>Dep. Variable:</th>            <td>y</td>        <th>  R-squared:         </th> <td>   0.320</td>\n",
       "</tr>\n",
       "<tr>\n",
       "  <th>Model:</th>                   <td>OLS</td>       <th>  Adj. R-squared:    </th> <td>   0.313</td>\n",
       "</tr>\n",
       "<tr>\n",
       "  <th>Method:</th>             <td>Least Squares</td>  <th>  F-statistic:       </th> <td>   46.64</td>\n",
       "</tr>\n",
       "<tr>\n",
       "  <th>Date:</th>             <td>Sun, 22 Sep 2019</td> <th>  Prob (F-statistic):</th> <td>6.97e-10</td>\n",
       "</tr>\n",
       "<tr>\n",
       "  <th>Time:</th>                 <td>15:35:17</td>     <th>  Log-Likelihood:    </th> <td> -590.87</td>\n",
       "</tr>\n",
       "<tr>\n",
       "  <th>No. Observations:</th>      <td>   100</td>      <th>  AIC:               </th> <td>   1184.</td>\n",
       "</tr>\n",
       "<tr>\n",
       "  <th>Df Residuals:</th>          <td>    99</td>      <th>  BIC:               </th> <td>   1186.</td>\n",
       "</tr>\n",
       "<tr>\n",
       "  <th>Df Model:</th>              <td>     1</td>      <th>                     </th>     <td> </td>   \n",
       "</tr>\n",
       "<tr>\n",
       "  <th>Covariance Type:</th>      <td>nonrobust</td>    <th>                     </th>     <td> </td>   \n",
       "</tr>\n",
       "</table>\n",
       "<table class=\"simpletable\">\n",
       "<tr>\n",
       "   <td></td>     <th>coef</th>     <th>std err</th>      <th>t</th>      <th>P>|t|</th>  <th>[0.025</th>    <th>0.975]</th>  \n",
       "</tr>\n",
       "<tr>\n",
       "  <th>x1</th> <td>   67.2393</td> <td>    9.846</td> <td>    6.829</td> <td> 0.000</td> <td>   47.703</td> <td>   86.775</td>\n",
       "</tr>\n",
       "</table>\n",
       "<table class=\"simpletable\">\n",
       "<tr>\n",
       "  <th>Omnibus:</th>       <td> 0.072</td> <th>  Durbin-Watson:     </th> <td>   1.834</td>\n",
       "</tr>\n",
       "<tr>\n",
       "  <th>Prob(Omnibus):</th> <td> 0.965</td> <th>  Jarque-Bera (JB):  </th> <td>   0.105</td>\n",
       "</tr>\n",
       "<tr>\n",
       "  <th>Skew:</th>          <td> 0.059</td> <th>  Prob(JB):          </th> <td>   0.949</td>\n",
       "</tr>\n",
       "<tr>\n",
       "  <th>Kurtosis:</th>      <td> 2.894</td> <th>  Cond. No.          </th> <td>    1.00</td>\n",
       "</tr>\n",
       "</table><br/><br/>Warnings:<br/>[1] Standard Errors assume that the covariance matrix of the errors is correctly specified."
      ],
      "text/plain": [
       "<class 'statsmodels.iolib.summary.Summary'>\n",
       "\"\"\"\n",
       "                            OLS Regression Results                            \n",
       "==============================================================================\n",
       "Dep. Variable:                      y   R-squared:                       0.320\n",
       "Model:                            OLS   Adj. R-squared:                  0.313\n",
       "Method:                 Least Squares   F-statistic:                     46.64\n",
       "Date:                Sun, 22 Sep 2019   Prob (F-statistic):           6.97e-10\n",
       "Time:                        15:35:17   Log-Likelihood:                -590.87\n",
       "No. Observations:                 100   AIC:                             1184.\n",
       "Df Residuals:                      99   BIC:                             1186.\n",
       "Df Model:                           1                                         \n",
       "Covariance Type:            nonrobust                                         \n",
       "==============================================================================\n",
       "                 coef    std err          t      P>|t|      [0.025      0.975]\n",
       "------------------------------------------------------------------------------\n",
       "x1            67.2393      9.846      6.829      0.000      47.703      86.775\n",
       "==============================================================================\n",
       "Omnibus:                        0.072   Durbin-Watson:                   1.834\n",
       "Prob(Omnibus):                  0.965   Jarque-Bera (JB):                0.105\n",
       "Skew:                           0.059   Prob(JB):                        0.949\n",
       "Kurtosis:                       2.894   Cond. No.                         1.00\n",
       "==============================================================================\n",
       "\n",
       "Warnings:\n",
       "[1] Standard Errors assume that the covariance matrix of the errors is correctly specified.\n",
       "\"\"\""
      ]
     },
     "execution_count": 30,
     "metadata": {},
     "output_type": "execute_result"
    }
   ],
   "source": [
    "model3 = sm.OLS(y3, X3)\n",
    "model_fit3 = model3.fit()\n",
    "model_fit3.summary()"
   ]
  },
  {
   "cell_type": "code",
   "execution_count": 32,
   "metadata": {},
   "outputs": [
    {
     "data": {
      "text/html": [
       "<table class=\"simpletable\">\n",
       "<caption>OLS Regression Results</caption>\n",
       "<tr>\n",
       "  <th>Dep. Variable:</th>            <td>y</td>        <th>  R-squared:         </th> <td>   1.000</td> \n",
       "</tr>\n",
       "<tr>\n",
       "  <th>Model:</th>                   <td>OLS</td>       <th>  Adj. R-squared:    </th> <td>   1.000</td> \n",
       "</tr>\n",
       "<tr>\n",
       "  <th>Method:</th>             <td>Least Squares</td>  <th>  F-statistic:       </th> <td>1.797e+11</td>\n",
       "</tr>\n",
       "<tr>\n",
       "  <th>Date:</th>             <td>Sun, 22 Sep 2019</td> <th>  Prob (F-statistic):</th>  <td>  0.00</td>  \n",
       "</tr>\n",
       "<tr>\n",
       "  <th>Time:</th>                 <td>15:36:14</td>     <th>  Log-Likelihood:    </th> <td>  560.42</td> \n",
       "</tr>\n",
       "<tr>\n",
       "  <th>No. Observations:</th>      <td>   100</td>      <th>  AIC:               </th> <td>  -1119.</td> \n",
       "</tr>\n",
       "<tr>\n",
       "  <th>Df Residuals:</th>          <td>    99</td>      <th>  BIC:               </th> <td>  -1116.</td> \n",
       "</tr>\n",
       "<tr>\n",
       "  <th>Df Model:</th>              <td>     1</td>      <th>                     </th>     <td> </td>    \n",
       "</tr>\n",
       "<tr>\n",
       "  <th>Covariance Type:</th>      <td>nonrobust</td>    <th>                     </th>     <td> </td>    \n",
       "</tr>\n",
       "</table>\n",
       "<table class=\"simpletable\">\n",
       "<tr>\n",
       "   <td></td>     <th>coef</th>     <th>std err</th>      <th>t</th>      <th>P>|t|</th>  <th>[0.025</th>    <th>0.975]</th>  \n",
       "</tr>\n",
       "<tr>\n",
       "  <th>x1</th> <td>   41.7414</td> <td> 9.85e-05</td> <td> 4.24e+05</td> <td> 0.000</td> <td>   41.741</td> <td>   41.742</td>\n",
       "</tr>\n",
       "</table>\n",
       "<table class=\"simpletable\">\n",
       "<tr>\n",
       "  <th>Omnibus:</th>       <td> 0.072</td> <th>  Durbin-Watson:     </th> <td>   1.834</td>\n",
       "</tr>\n",
       "<tr>\n",
       "  <th>Prob(Omnibus):</th> <td> 0.965</td> <th>  Jarque-Bera (JB):  </th> <td>   0.105</td>\n",
       "</tr>\n",
       "<tr>\n",
       "  <th>Skew:</th>          <td> 0.059</td> <th>  Prob(JB):          </th> <td>   0.949</td>\n",
       "</tr>\n",
       "<tr>\n",
       "  <th>Kurtosis:</th>      <td> 2.894</td> <th>  Cond. No.          </th> <td>    1.00</td>\n",
       "</tr>\n",
       "</table><br/><br/>Warnings:<br/>[1] Standard Errors assume that the covariance matrix of the errors is correctly specified."
      ],
      "text/plain": [
       "<class 'statsmodels.iolib.summary.Summary'>\n",
       "\"\"\"\n",
       "                            OLS Regression Results                            \n",
       "==============================================================================\n",
       "Dep. Variable:                      y   R-squared:                       1.000\n",
       "Model:                            OLS   Adj. R-squared:                  1.000\n",
       "Method:                 Least Squares   F-statistic:                 1.797e+11\n",
       "Date:                Sun, 22 Sep 2019   Prob (F-statistic):               0.00\n",
       "Time:                        15:36:14   Log-Likelihood:                 560.42\n",
       "No. Observations:                 100   AIC:                            -1119.\n",
       "Df Residuals:                      99   BIC:                            -1116.\n",
       "Df Model:                           1                                         \n",
       "Covariance Type:            nonrobust                                         \n",
       "==============================================================================\n",
       "                 coef    std err          t      P>|t|      [0.025      0.975]\n",
       "------------------------------------------------------------------------------\n",
       "x1            41.7414   9.85e-05   4.24e+05      0.000      41.741      41.742\n",
       "==============================================================================\n",
       "Omnibus:                        0.072   Durbin-Watson:                   1.834\n",
       "Prob(Omnibus):                  0.965   Jarque-Bera (JB):                0.105\n",
       "Skew:                           0.059   Prob(JB):                        0.949\n",
       "Kurtosis:                       2.894   Cond. No.                         1.00\n",
       "==============================================================================\n",
       "\n",
       "Warnings:\n",
       "[1] Standard Errors assume that the covariance matrix of the errors is correctly specified.\n",
       "\"\"\""
      ]
     },
     "execution_count": 32,
     "metadata": {},
     "output_type": "execute_result"
    }
   ],
   "source": [
    "X0, y0 = make_regression(n_samples=100, n_features=1, n_informative=1, noise=0.001, random_state=42)\n",
    "model0 = sm.OLS(y0, X0)\n",
    "model_fit0 = model0.fit()\n",
    "model_fit0.summary()"
   ]
  },
  {
   "cell_type": "code",
   "execution_count": 53,
   "metadata": {},
   "outputs": [],
   "source": [
    "noise_values = np.linspace(0.001, 1000, 10000)\n",
    "r2adj_values = []\n",
    "aic_values = []\n",
    "bic_values = []\n",
    "ess_values = []\n",
    "fstat_values = []\n",
    "p_values = []\n",
    "mse_model_values = []\n",
    "mse_total_values = []\n",
    "mse_residual_values = []\n",
    "ssr_values = []\n",
    "t_values = []\n",
    "\n",
    "for noise in noise_values:\n",
    "    X, y = make_regression(n_samples=100, n_features=1, n_informative=1, noise=noise, random_state=42)\n",
    "    model = sm.OLS(y, X)\n",
    "    model_fit = model.fit()\n",
    "    r2adj_values.append(model_fit.rsquared_adj)\n",
    "    aic_values.append(model_fit.aic)\n",
    "    bic_values.append(model_fit.bic)\n",
    "    ess_values.append(model_fit.ess)\n",
    "    fstat_values.append(model_fit.fvalue)\n",
    "    p_values.append(model_fit.pvalues)\n",
    "    mse_model_values.append(model_fit.mse_model)\n",
    "    mse_total_values.append(model_fit.mse_total)\n",
    "    mse_residual_values.append(model_fit.mse_resid)\n",
    "    ssr_values.append(model_fit.ssr)\n",
    "    t_values.append(model_fit.tvalues)"
   ]
  },
  {
   "cell_type": "code",
   "execution_count": 70,
   "metadata": {},
   "outputs": [],
   "source": [
    "all_metrics = [\n",
    "    ('r2adj_values', r2adj_values),\n",
    "    ('aic_values', aic_values),\n",
    "    ('bic_values', bic_values),\n",
    "    ('fstat_values', fstat_values),\n",
    "    ('p_values', p_values),\n",
    "    ('t_values', t_values),\n",
    "    ('mse_model_values', mse_model_values),\n",
    "    ('mse_total_values', mse_total_values),\n",
    "    ('mse_residual_values', mse_residual_values),\n",
    "    ('ess_values', ess_values),\n",
    "    ('ssr_values', ssr_values)\n",
    "]"
   ]
  },
  {
   "cell_type": "code",
   "execution_count": 71,
   "metadata": {},
   "outputs": [
    {
     "data": {
      "image/png": "[encoded data removed]",
      "text/plain": [
       "<Figure size 1008x864 with 12 Axes>"
      ]
     },
     "metadata": {},
     "output_type": "display_data"
    }
   ],
   "source": [
    "fig, axs = plt.subplots(3, 4, figsize=(14, 12))\n",
    "axs = axs.flatten()\n",
    "\n",
    "for i, metric in enumerate(all_metrics):\n",
    "    name = metric[0]\n",
    "    vals = metric[1]\n",
    "    axs[i].plot(noise_values, vals)\n",
    "    axs[i].set_title(name, fontsize=20)\n",
    "    axs[i].set_xlabel(\"Noise\", fontsize=14)\n",
    "    axs[i].set_ylabel(name.split('_values')[0], fontsize=14)\n",
    "\n",
    "plt.tight_layout()\n",
    "plt.show()"
   ]
  },
  {
   "cell_type": "markdown",
   "metadata": {},
   "source": [
    "# Now, let's try overfitting the Friedman data"
   ]
  },
  {
   "cell_type": "code",
   "execution_count": 94,
   "metadata": {},
   "outputs": [],
   "source": [
    "modelf1 = sm.OLS(yf_1, Xf_1)\n",
    "model_fit_f1_small = modelf1.fit()"
   ]
  },
  {
   "cell_type": "code",
   "execution_count": 95,
   "metadata": {},
   "outputs": [
    {
     "data": {
      "text/plain": [
       "0.9666043298582493"
      ]
     },
     "execution_count": 95,
     "metadata": {},
     "output_type": "execute_result"
    }
   ],
   "source": [
    "model_fit_f1_small.rsquared_adj"
   ]
  },
  {
   "cell_type": "code",
   "execution_count": 80,
   "metadata": {
    "scrolled": true
   },
   "outputs": [
    {
     "data": {
      "image/png": "[encoded data removed]",
      "text/plain": [
       "<Figure size 432x288 with 1 Axes>"
      ]
     },
     "metadata": {},
     "output_type": "display_data"
    },
    {
     "data": {
      "image/png": "[encoded data removed]",
      "text/plain": [
       "<Figure size 432x288 with 1 Axes>"
      ]
     },
     "metadata": {},
     "output_type": "display_data"
    },
    {
     "data": {
      "image/png": "[encoded data removed]",
      "text/plain": [
       "<Figure size 432x288 with 1 Axes>"
      ]
     },
     "metadata": {},
     "output_type": "display_data"
    },
    {
     "data": {
      "image/png": "[encoded data removed]",
      "text/plain": [
       "<Figure size 432x288 with 1 Axes>"
      ]
     },
     "metadata": {},
     "output_type": "display_data"
    },
    {
     "data": {
      "image/png": "[encoded data removed]",
      "text/plain": [
       "<Figure size 432x288 with 1 Axes>"
      ]
     },
     "metadata": {},
     "output_type": "display_data"
    }
   ],
   "source": [
    "for i in range(Xf_1.shape[1]):\n",
    "    plt.scatter(Xf_1[:, i], yf_1)\n",
    "    plt.show()"
   ]
  },
  {
   "cell_type": "code",
   "execution_count": 81,
   "metadata": {},
   "outputs": [],
   "source": [
    "Xf_big = np.append(Xf_1, Xf_1**2, axis=1)"
   ]
  },
  {
   "cell_type": "code",
   "execution_count": 83,
   "metadata": {},
   "outputs": [
    {
     "data": {
      "text/plain": [
       "(100, 10)"
      ]
     },
     "execution_count": 83,
     "metadata": {},
     "output_type": "execute_result"
    }
   ],
   "source": [
    "Xf_big.shape"
   ]
  },
  {
   "cell_type": "code",
   "execution_count": 85,
   "metadata": {},
   "outputs": [
    {
     "data": {
      "text/plain": [
       "0.9854686926723043"
      ]
     },
     "execution_count": 85,
     "metadata": {},
     "output_type": "execute_result"
    }
   ],
   "source": [
    "modelf1 = sm.OLS(yf_1, Xf_big)\n",
    "model_fit_f1 = modelf1.fit()\n",
    "model_fit_f1.rsquared_adj"
   ]
  },
  {
   "cell_type": "code",
   "execution_count": 86,
   "metadata": {},
   "outputs": [
    {
     "data": {
      "text/plain": [
       "0.9862211298725252"
      ]
     },
     "execution_count": 86,
     "metadata": {},
     "output_type": "execute_result"
    }
   ],
   "source": [
    "Xf_bigger = np.append(Xf_big, Xf_1**3, axis=1)\n",
    "modelf1 = sm.OLS(yf_1, Xf_bigger)\n",
    "model_fit_f1 = modelf1.fit()\n",
    "model_fit_f1.rsquared_adj"
   ]
  },
  {
   "cell_type": "code",
   "execution_count": 87,
   "metadata": {},
   "outputs": [
    {
     "data": {
      "text/plain": [
       "0.9860035093224918"
      ]
     },
     "execution_count": 87,
     "metadata": {},
     "output_type": "execute_result"
    }
   ],
   "source": [
    "Xf_bigger_still = np.append(Xf_bigger, np.sin(Xf_1), axis=1)\n",
    "modelf1 = sm.OLS(yf_1, Xf_bigger_still)\n",
    "model_fit_f1 = modelf1.fit()\n",
    "model_fit_f1.rsquared_adj"
   ]
  },
  {
   "cell_type": "code",
   "execution_count": 88,
   "metadata": {},
   "outputs": [
    {
     "data": {
      "text/plain": [
       "0.9862693173174809"
      ]
     },
     "execution_count": 88,
     "metadata": {},
     "output_type": "execute_result"
    }
   ],
   "source": [
    "Xf_biggest = np.append(Xf_bigger_still, np.sqrt(Xf_1), axis=1)\n",
    "modelf1 = sm.OLS(yf_1, Xf_biggest)\n",
    "model_fit_f1 = modelf1.fit()\n",
    "model_fit_f1.rsquared_adj"
   ]
  },
  {
   "cell_type": "code",
   "execution_count": 89,
   "metadata": {},
   "outputs": [
    {
     "data": {
      "text/plain": [
       "(100, 25)"
      ]
     },
     "execution_count": 89,
     "metadata": {},
     "output_type": "execute_result"
    }
   ],
   "source": [
    "Xf_biggest.shape"
   ]
  },
  {
   "cell_type": "code",
   "execution_count": 90,
   "metadata": {},
   "outputs": [
    {
     "data": {
      "text/plain": [
       "0.988524091397242"
      ]
     },
     "execution_count": 90,
     "metadata": {},
     "output_type": "execute_result"
    }
   ],
   "source": [
    "Xf_bigbig = np.append(Xf_biggest, Xf_biggest**4, axis=1)\n",
    "modelf1 = sm.OLS(yf_1, Xf_bigbig)\n",
    "model_fit_f1 = modelf1.fit()\n",
    "model_fit_f1.rsquared_adj"
   ]
  },
  {
   "cell_type": "code",
   "execution_count": 91,
   "metadata": {},
   "outputs": [
    {
     "data": {
      "text/plain": [
       "0.9936882502684831"
      ]
     },
     "execution_count": 91,
     "metadata": {},
     "output_type": "execute_result"
    }
   ],
   "source": [
    "model_fit_f1.rsquared"
   ]
  },
  {
   "cell_type": "code",
   "execution_count": 93,
   "metadata": {
    "scrolled": false
   },
   "outputs": [
    {
     "data": {
      "text/html": [
       "<table class=\"simpletable\">\n",
       "<caption>OLS Regression Results</caption>\n",
       "<tr>\n",
       "  <th>Dep. Variable:</th>            <td>y</td>        <th>  R-squared:         </th> <td>   0.994</td>\n",
       "</tr>\n",
       "<tr>\n",
       "  <th>Model:</th>                   <td>OLS</td>       <th>  Adj. R-squared:    </th> <td>   0.989</td>\n",
       "</tr>\n",
       "<tr>\n",
       "  <th>Method:</th>             <td>Least Squares</td>  <th>  F-statistic:       </th> <td>   192.4</td>\n",
       "</tr>\n",
       "<tr>\n",
       "  <th>Date:</th>             <td>Sun, 22 Sep 2019</td> <th>  Prob (F-statistic):</th> <td>1.25e-47</td>\n",
       "</tr>\n",
       "<tr>\n",
       "  <th>Time:</th>                 <td>16:20:50</td>     <th>  Log-Likelihood:    </th> <td> -161.90</td>\n",
       "</tr>\n",
       "<tr>\n",
       "  <th>No. Observations:</th>      <td>   100</td>      <th>  AIC:               </th> <td>   413.8</td>\n",
       "</tr>\n",
       "<tr>\n",
       "  <th>Df Residuals:</th>          <td>    55</td>      <th>  BIC:               </th> <td>   531.0</td>\n",
       "</tr>\n",
       "<tr>\n",
       "  <th>Df Model:</th>              <td>    45</td>      <th>                     </th>     <td> </td>   \n",
       "</tr>\n",
       "<tr>\n",
       "  <th>Covariance Type:</th>      <td>nonrobust</td>    <th>                     </th>     <td> </td>   \n",
       "</tr>\n",
       "</table>\n",
       "<table class=\"simpletable\">\n",
       "<tr>\n",
       "   <td></td>      <th>coef</th>     <th>std err</th>      <th>t</th>      <th>P>|t|</th>  <th>[0.025</th>    <th>0.975]</th>  \n",
       "</tr>\n",
       "<tr>\n",
       "  <th>x1</th>  <td> 7.953e+06</td> <td> 6.57e+06</td> <td>    1.211</td> <td> 0.231</td> <td>-5.21e+06</td> <td> 2.11e+07</td>\n",
       "</tr>\n",
       "<tr>\n",
       "  <th>x2</th>  <td>-3.824e+06</td> <td> 7.29e+06</td> <td>   -0.525</td> <td> 0.602</td> <td>-1.84e+07</td> <td> 1.08e+07</td>\n",
       "</tr>\n",
       "<tr>\n",
       "  <th>x3</th>  <td> 1.143e+06</td> <td> 6.46e+06</td> <td>    0.177</td> <td> 0.860</td> <td>-1.18e+07</td> <td> 1.41e+07</td>\n",
       "</tr>\n",
       "<tr>\n",
       "  <th>x4</th>  <td> 4.772e+06</td> <td> 6.42e+06</td> <td>    0.743</td> <td> 0.461</td> <td> -8.1e+06</td> <td> 1.76e+07</td>\n",
       "</tr>\n",
       "<tr>\n",
       "  <th>x5</th>  <td>-2.284e+06</td> <td> 7.59e+06</td> <td>   -0.301</td> <td> 0.765</td> <td>-1.75e+07</td> <td> 1.29e+07</td>\n",
       "</tr>\n",
       "<tr>\n",
       "  <th>x6</th>  <td>  817.3002</td> <td> 1770.765</td> <td>    0.462</td> <td> 0.646</td> <td>-2731.391</td> <td> 4365.992</td>\n",
       "</tr>\n",
       "<tr>\n",
       "  <th>x7</th>  <td>  134.8324</td> <td> 2015.942</td> <td>    0.067</td> <td> 0.947</td> <td>-3905.206</td> <td> 4174.871</td>\n",
       "</tr>\n",
       "<tr>\n",
       "  <th>x8</th>  <td>  130.6461</td> <td> 1531.855</td> <td>    0.085</td> <td> 0.932</td> <td>-2939.261</td> <td> 3200.553</td>\n",
       "</tr>\n",
       "<tr>\n",
       "  <th>x9</th>  <td> 1367.1311</td> <td> 1604.295</td> <td>    0.852</td> <td> 0.398</td> <td>-1847.947</td> <td> 4582.210</td>\n",
       "</tr>\n",
       "<tr>\n",
       "  <th>x10</th> <td>-1080.1518</td> <td> 2108.789</td> <td>   -0.512</td> <td> 0.611</td> <td>-5306.260</td> <td> 3145.956</td>\n",
       "</tr>\n",
       "<tr>\n",
       "  <th>x11</th> <td>-1.337e+06</td> <td> 1.11e+06</td> <td>   -1.205</td> <td> 0.234</td> <td>-3.56e+06</td> <td> 8.87e+05</td>\n",
       "</tr>\n",
       "<tr>\n",
       "  <th>x12</th> <td> 6.414e+05</td> <td> 1.23e+06</td> <td>    0.520</td> <td> 0.605</td> <td>-1.83e+06</td> <td> 3.11e+06</td>\n",
       "</tr>\n",
       "<tr>\n",
       "  <th>x13</th> <td>-1.919e+05</td> <td> 1.09e+06</td> <td>   -0.176</td> <td> 0.861</td> <td>-2.38e+06</td> <td> 1.99e+06</td>\n",
       "</tr>\n",
       "<tr>\n",
       "  <th>x14</th> <td>-8.088e+05</td> <td> 1.08e+06</td> <td>   -0.746</td> <td> 0.459</td> <td>-2.98e+06</td> <td> 1.36e+06</td>\n",
       "</tr>\n",
       "<tr>\n",
       "  <th>x15</th> <td> 3.885e+05</td> <td> 1.28e+06</td> <td>    0.303</td> <td> 0.763</td> <td>-2.18e+06</td> <td> 2.96e+06</td>\n",
       "</tr>\n",
       "<tr>\n",
       "  <th>x16</th> <td>-7.953e+06</td> <td> 6.57e+06</td> <td>   -1.211</td> <td> 0.231</td> <td>-2.11e+07</td> <td> 5.21e+06</td>\n",
       "</tr>\n",
       "<tr>\n",
       "  <th>x17</th> <td> 3.824e+06</td> <td> 7.29e+06</td> <td>    0.524</td> <td> 0.602</td> <td>-1.08e+07</td> <td> 1.84e+07</td>\n",
       "</tr>\n",
       "<tr>\n",
       "  <th>x18</th> <td>-1.143e+06</td> <td> 6.46e+06</td> <td>   -0.177</td> <td> 0.860</td> <td>-1.41e+07</td> <td> 1.18e+07</td>\n",
       "</tr>\n",
       "<tr>\n",
       "  <th>x19</th> <td>-4.772e+06</td> <td> 6.42e+06</td> <td>   -0.743</td> <td> 0.461</td> <td>-1.76e+07</td> <td>  8.1e+06</td>\n",
       "</tr>\n",
       "<tr>\n",
       "  <th>x20</th> <td> 2.285e+06</td> <td>  7.6e+06</td> <td>    0.301</td> <td> 0.765</td> <td>-1.29e+07</td> <td> 1.75e+07</td>\n",
       "</tr>\n",
       "<tr>\n",
       "  <th>x21</th> <td>   16.9234</td> <td>  166.199</td> <td>    0.102</td> <td> 0.919</td> <td> -316.147</td> <td>  349.994</td>\n",
       "</tr>\n",
       "<tr>\n",
       "  <th>x22</th> <td>  137.7009</td> <td>  193.095</td> <td>    0.713</td> <td> 0.479</td> <td> -249.269</td> <td>  524.671</td>\n",
       "</tr>\n",
       "<tr>\n",
       "  <th>x23</th> <td>   10.3182</td> <td>  118.015</td> <td>    0.087</td> <td> 0.931</td> <td> -226.189</td> <td>  246.825</td>\n",
       "</tr>\n",
       "<tr>\n",
       "  <th>x24</th> <td>    5.8654</td> <td>  128.402</td> <td>    0.046</td> <td> 0.964</td> <td> -251.458</td> <td>  263.189</td>\n",
       "</tr>\n",
       "<tr>\n",
       "  <th>x25</th> <td> -120.5086</td> <td>  211.099</td> <td>   -0.571</td> <td> 0.570</td> <td> -543.561</td> <td>  302.544</td>\n",
       "</tr>\n",
       "<tr>\n",
       "  <th>x26</th> <td> 1.118e+05</td> <td> 9.07e+04</td> <td>    1.232</td> <td> 0.223</td> <td>-7.01e+04</td> <td> 2.94e+05</td>\n",
       "</tr>\n",
       "<tr>\n",
       "  <th>x27</th> <td>-5.192e+04</td> <td> 1.01e+05</td> <td>   -0.516</td> <td> 0.608</td> <td>-2.54e+05</td> <td>  1.5e+05</td>\n",
       "</tr>\n",
       "<tr>\n",
       "  <th>x28</th> <td> 1.638e+04</td> <td> 8.93e+04</td> <td>    0.183</td> <td> 0.855</td> <td>-1.63e+05</td> <td> 1.95e+05</td>\n",
       "</tr>\n",
       "<tr>\n",
       "  <th>x29</th> <td> 6.383e+04</td> <td> 8.89e+04</td> <td>    0.718</td> <td> 0.476</td> <td>-1.14e+05</td> <td> 2.42e+05</td>\n",
       "</tr>\n",
       "<tr>\n",
       "  <th>x30</th> <td>-3.081e+04</td> <td> 1.05e+05</td> <td>   -0.294</td> <td> 0.770</td> <td>-2.41e+05</td> <td> 1.79e+05</td>\n",
       "</tr>\n",
       "<tr>\n",
       "  <th>x31</th> <td>-1395.8739</td> <td>  846.880</td> <td>   -1.648</td> <td> 0.105</td> <td>-3093.059</td> <td>  301.311</td>\n",
       "</tr>\n",
       "<tr>\n",
       "  <th>x32</th> <td>    1.9500</td> <td>  919.672</td> <td>    0.002</td> <td> 0.998</td> <td>-1841.114</td> <td> 1845.014</td>\n",
       "</tr>\n",
       "<tr>\n",
       "  <th>x33</th> <td> -440.6235</td> <td>  814.599</td> <td>   -0.541</td> <td> 0.591</td> <td>-2073.116</td> <td> 1191.869</td>\n",
       "</tr>\n",
       "<tr>\n",
       "  <th>x34</th> <td> 1865.8773</td> <td>  888.777</td> <td>    2.099</td> <td> 0.040</td> <td>   84.729</td> <td> 3647.026</td>\n",
       "</tr>\n",
       "<tr>\n",
       "  <th>x35</th> <td>-1067.1290</td> <td> 1038.957</td> <td>   -1.027</td> <td> 0.309</td> <td>-3149.245</td> <td> 1014.987</td>\n",
       "</tr>\n",
       "<tr>\n",
       "  <th>x36</th> <td>  825.4917</td> <td>  271.068</td> <td>    3.045</td> <td> 0.004</td> <td>  282.259</td> <td> 1368.725</td>\n",
       "</tr>\n",
       "<tr>\n",
       "  <th>x37</th> <td> -190.2830</td> <td>  278.600</td> <td>   -0.683</td> <td> 0.497</td> <td> -748.609</td> <td>  368.043</td>\n",
       "</tr>\n",
       "<tr>\n",
       "  <th>x38</th> <td>  230.9157</td> <td>  359.516</td> <td>    0.642</td> <td> 0.523</td> <td> -489.571</td> <td>  951.402</td>\n",
       "</tr>\n",
       "<tr>\n",
       "  <th>x39</th> <td> -238.0660</td> <td>  353.398</td> <td>   -0.674</td> <td> 0.503</td> <td> -946.292</td> <td>  470.160</td>\n",
       "</tr>\n",
       "<tr>\n",
       "  <th>x40</th> <td>  189.5615</td> <td>  308.210</td> <td>    0.615</td> <td> 0.541</td> <td> -428.105</td> <td>  807.228</td>\n",
       "</tr>\n",
       "<tr>\n",
       "  <th>x41</th> <td>-7.343e+04</td> <td>  5.2e+04</td> <td>   -1.413</td> <td> 0.163</td> <td>-1.78e+05</td> <td> 3.07e+04</td>\n",
       "</tr>\n",
       "<tr>\n",
       "  <th>x42</th> <td> 3.376e+04</td> <td> 5.73e+04</td> <td>    0.589</td> <td> 0.558</td> <td>-8.11e+04</td> <td> 1.49e+05</td>\n",
       "</tr>\n",
       "<tr>\n",
       "  <th>x43</th> <td>-1.134e+04</td> <td> 5.23e+04</td> <td>   -0.217</td> <td> 0.829</td> <td>-1.16e+05</td> <td> 9.35e+04</td>\n",
       "</tr>\n",
       "<tr>\n",
       "  <th>x44</th> <td>-3.145e+04</td> <td> 5.19e+04</td> <td>   -0.606</td> <td> 0.547</td> <td>-1.35e+05</td> <td> 7.25e+04</td>\n",
       "</tr>\n",
       "<tr>\n",
       "  <th>x45</th> <td>  1.44e+04</td> <td> 5.99e+04</td> <td>    0.240</td> <td> 0.811</td> <td>-1.06e+05</td> <td> 1.34e+05</td>\n",
       "</tr>\n",
       "<tr>\n",
       "  <th>x46</th> <td>  817.3007</td> <td> 1770.762</td> <td>    0.462</td> <td> 0.646</td> <td>-2731.386</td> <td> 4365.987</td>\n",
       "</tr>\n",
       "<tr>\n",
       "  <th>x47</th> <td>  134.8190</td> <td> 2015.943</td> <td>    0.067</td> <td> 0.947</td> <td>-3905.222</td> <td> 4174.860</td>\n",
       "</tr>\n",
       "<tr>\n",
       "  <th>x48</th> <td>  130.6390</td> <td> 1531.853</td> <td>    0.085</td> <td> 0.932</td> <td>-2939.264</td> <td> 3200.542</td>\n",
       "</tr>\n",
       "<tr>\n",
       "  <th>x49</th> <td> 1367.1136</td> <td> 1604.292</td> <td>    0.852</td> <td> 0.398</td> <td>-1847.960</td> <td> 4582.187</td>\n",
       "</tr>\n",
       "<tr>\n",
       "  <th>x50</th> <td>-1080.1473</td> <td> 2108.786</td> <td>   -0.512</td> <td> 0.611</td> <td>-5306.249</td> <td> 3145.954</td>\n",
       "</tr>\n",
       "</table>\n",
       "<table class=\"simpletable\">\n",
       "<tr>\n",
       "  <th>Omnibus:</th>       <td> 0.014</td> <th>  Durbin-Watson:     </th> <td>   2.102</td>\n",
       "</tr>\n",
       "<tr>\n",
       "  <th>Prob(Omnibus):</th> <td> 0.993</td> <th>  Jarque-Bera (JB):  </th> <td>   0.099</td>\n",
       "</tr>\n",
       "<tr>\n",
       "  <th>Skew:</th>          <td> 0.026</td> <th>  Prob(JB):          </th> <td>   0.952</td>\n",
       "</tr>\n",
       "<tr>\n",
       "  <th>Kurtosis:</th>      <td> 2.855</td> <th>  Cond. No.          </th> <td>1.17e+16</td>\n",
       "</tr>\n",
       "</table><br/><br/>Warnings:<br/>[1] Standard Errors assume that the covariance matrix of the errors is correctly specified.<br/>[2] The smallest eigenvalue is 5.01e-30. This might indicate that there are<br/>strong multicollinearity problems or that the design matrix is singular."
      ],
      "text/plain": [
       "<class 'statsmodels.iolib.summary.Summary'>\n",
       "\"\"\"\n",
       "                            OLS Regression Results                            \n",
       "==============================================================================\n",
       "Dep. Variable:                      y   R-squared:                       0.994\n",
       "Model:                            OLS   Adj. R-squared:                  0.989\n",
       "Method:                 Least Squares   F-statistic:                     192.4\n",
       "Date:                Sun, 22 Sep 2019   Prob (F-statistic):           1.25e-47\n",
       "Time:                        16:20:50   Log-Likelihood:                -161.90\n",
       "No. Observations:                 100   AIC:                             413.8\n",
       "Df Residuals:                      55   BIC:                             531.0\n",
       "Df Model:                          45                                         \n",
       "Covariance Type:            nonrobust                                         \n",
       "==============================================================================\n",
       "                 coef    std err          t      P>|t|      [0.025      0.975]\n",
       "------------------------------------------------------------------------------\n",
       "x1          7.953e+06   6.57e+06      1.211      0.231   -5.21e+06    2.11e+07\n",
       "x2         -3.824e+06   7.29e+06     -0.525      0.602   -1.84e+07    1.08e+07\n",
       "x3          1.143e+06   6.46e+06      0.177      0.860   -1.18e+07    1.41e+07\n",
       "x4          4.772e+06   6.42e+06      0.743      0.461    -8.1e+06    1.76e+07\n",
       "x5         -2.284e+06   7.59e+06     -0.301      0.765   -1.75e+07    1.29e+07\n",
       "x6           817.3002   1770.765      0.462      0.646   -2731.391    4365.992\n",
       "x7           134.8324   2015.942      0.067      0.947   -3905.206    4174.871\n",
       "x8           130.6461   1531.855      0.085      0.932   -2939.261    3200.553\n",
       "x9          1367.1311   1604.295      0.852      0.398   -1847.947    4582.210\n",
       "x10        -1080.1518   2108.789     -0.512      0.611   -5306.260    3145.956\n",
       "x11        -1.337e+06   1.11e+06     -1.205      0.234   -3.56e+06    8.87e+05\n",
       "x12         6.414e+05   1.23e+06      0.520      0.605   -1.83e+06    3.11e+06\n",
       "x13        -1.919e+05   1.09e+06     -0.176      0.861   -2.38e+06    1.99e+06\n",
       "x14        -8.088e+05   1.08e+06     -0.746      0.459   -2.98e+06    1.36e+06\n",
       "x15         3.885e+05   1.28e+06      0.303      0.763   -2.18e+06    2.96e+06\n",
       "x16        -7.953e+06   6.57e+06     -1.211      0.231   -2.11e+07    5.21e+06\n",
       "x17         3.824e+06   7.29e+06      0.524      0.602   -1.08e+07    1.84e+07\n",
       "x18        -1.143e+06   6.46e+06     -0.177      0.860   -1.41e+07    1.18e+07\n",
       "x19        -4.772e+06   6.42e+06     -0.743      0.461   -1.76e+07     8.1e+06\n",
       "x20         2.285e+06    7.6e+06      0.301      0.765   -1.29e+07    1.75e+07\n",
       "x21           16.9234    166.199      0.102      0.919    -316.147     349.994\n",
       "x22          137.7009    193.095      0.713      0.479    -249.269     524.671\n",
       "x23           10.3182    118.015      0.087      0.931    -226.189     246.825\n",
       "x24            5.8654    128.402      0.046      0.964    -251.458     263.189\n",
       "x25         -120.5086    211.099     -0.571      0.570    -543.561     302.544\n",
       "x26         1.118e+05   9.07e+04      1.232      0.223   -7.01e+04    2.94e+05\n",
       "x27        -5.192e+04   1.01e+05     -0.516      0.608   -2.54e+05     1.5e+05\n",
       "x28         1.638e+04   8.93e+04      0.183      0.855   -1.63e+05    1.95e+05\n",
       "x29         6.383e+04   8.89e+04      0.718      0.476   -1.14e+05    2.42e+05\n",
       "x30        -3.081e+04   1.05e+05     -0.294      0.770   -2.41e+05    1.79e+05\n",
       "x31        -1395.8739    846.880     -1.648      0.105   -3093.059     301.311\n",
       "x32            1.9500    919.672      0.002      0.998   -1841.114    1845.014\n",
       "x33         -440.6235    814.599     -0.541      0.591   -2073.116    1191.869\n",
       "x34         1865.8773    888.777      2.099      0.040      84.729    3647.026\n",
       "x35        -1067.1290   1038.957     -1.027      0.309   -3149.245    1014.987\n",
       "x36          825.4917    271.068      3.045      0.004     282.259    1368.725\n",
       "x37         -190.2830    278.600     -0.683      0.497    -748.609     368.043\n",
       "x38          230.9157    359.516      0.642      0.523    -489.571     951.402\n",
       "x39         -238.0660    353.398     -0.674      0.503    -946.292     470.160\n",
       "x40          189.5615    308.210      0.615      0.541    -428.105     807.228\n",
       "x41        -7.343e+04    5.2e+04     -1.413      0.163   -1.78e+05    3.07e+04\n",
       "x42         3.376e+04   5.73e+04      0.589      0.558   -8.11e+04    1.49e+05\n",
       "x43        -1.134e+04   5.23e+04     -0.217      0.829   -1.16e+05    9.35e+04\n",
       "x44        -3.145e+04   5.19e+04     -0.606      0.547   -1.35e+05    7.25e+04\n",
       "x45          1.44e+04   5.99e+04      0.240      0.811   -1.06e+05    1.34e+05\n",
       "x46          817.3007   1770.762      0.462      0.646   -2731.386    4365.987\n",
       "x47          134.8190   2015.943      0.067      0.947   -3905.222    4174.860\n",
       "x48          130.6390   1531.853      0.085      0.932   -2939.264    3200.542\n",
       "x49         1367.1136   1604.292      0.852      0.398   -1847.960    4582.187\n",
       "x50        -1080.1473   2108.786     -0.512      0.611   -5306.249    3145.954\n",
       "==============================================================================\n",
       "Omnibus:                        0.014   Durbin-Watson:                   2.102\n",
       "Prob(Omnibus):                  0.993   Jarque-Bera (JB):                0.099\n",
       "Skew:                           0.026   Prob(JB):                        0.952\n",
       "Kurtosis:                       2.855   Cond. No.                     1.17e+16\n",
       "==============================================================================\n",
       "\n",
       "Warnings:\n",
       "[1] Standard Errors assume that the covariance matrix of the errors is correctly specified.\n",
       "[2] The smallest eigenvalue is 5.01e-30. This might indicate that there are\n",
       "strong multicollinearity problems or that the design matrix is singular.\n",
       "\"\"\""
      ]
     },
     "execution_count": 93,
     "metadata": {},
     "output_type": "execute_result"
    }
   ],
   "source": [
    "model_fit_f1.summary()"
   ]
  },
  {
   "cell_type": "code",
   "execution_count": 96,
   "metadata": {},
   "outputs": [
    {
     "data": {
      "text/html": [
       "<table class=\"simpletable\">\n",
       "<caption>OLS Regression Results</caption>\n",
       "<tr>\n",
       "  <th>Dep. Variable:</th>            <td>y</td>        <th>  R-squared:         </th> <td>   0.968</td>\n",
       "</tr>\n",
       "<tr>\n",
       "  <th>Model:</th>                   <td>OLS</td>       <th>  Adj. R-squared:    </th> <td>   0.967</td>\n",
       "</tr>\n",
       "<tr>\n",
       "  <th>Method:</th>             <td>Least Squares</td>  <th>  F-statistic:       </th> <td>   579.9</td>\n",
       "</tr>\n",
       "<tr>\n",
       "  <th>Date:</th>             <td>Sun, 22 Sep 2019</td> <th>  Prob (F-statistic):</th> <td>1.60e-69</td>\n",
       "</tr>\n",
       "<tr>\n",
       "  <th>Time:</th>                 <td>16:22:25</td>     <th>  Log-Likelihood:    </th> <td> -242.64</td>\n",
       "</tr>\n",
       "<tr>\n",
       "  <th>No. Observations:</th>      <td>   100</td>      <th>  AIC:               </th> <td>   495.3</td>\n",
       "</tr>\n",
       "<tr>\n",
       "  <th>Df Residuals:</th>          <td>    95</td>      <th>  BIC:               </th> <td>   508.3</td>\n",
       "</tr>\n",
       "<tr>\n",
       "  <th>Df Model:</th>              <td>     5</td>      <th>                     </th>     <td> </td>   \n",
       "</tr>\n",
       "<tr>\n",
       "  <th>Covariance Type:</th>      <td>nonrobust</td>    <th>                     </th>     <td> </td>   \n",
       "</tr>\n",
       "</table>\n",
       "<table class=\"simpletable\">\n",
       "<tr>\n",
       "   <td></td>     <th>coef</th>     <th>std err</th>      <th>t</th>      <th>P>|t|</th>  <th>[0.025</th>    <th>0.975]</th>  \n",
       "</tr>\n",
       "<tr>\n",
       "  <th>x1</th> <td>    7.1558</td> <td>    0.815</td> <td>    8.783</td> <td> 0.000</td> <td>    5.538</td> <td>    8.773</td>\n",
       "</tr>\n",
       "<tr>\n",
       "  <th>x2</th> <td>    6.4485</td> <td>    0.844</td> <td>    7.636</td> <td> 0.000</td> <td>    4.772</td> <td>    8.125</td>\n",
       "</tr>\n",
       "<tr>\n",
       "  <th>x3</th> <td>   -0.8486</td> <td>    0.859</td> <td>   -0.988</td> <td> 0.326</td> <td>   -2.554</td> <td>    0.857</td>\n",
       "</tr>\n",
       "<tr>\n",
       "  <th>x4</th> <td>   10.6733</td> <td>    0.934</td> <td>   11.425</td> <td> 0.000</td> <td>    8.819</td> <td>   12.528</td>\n",
       "</tr>\n",
       "<tr>\n",
       "  <th>x5</th> <td>    4.9934</td> <td>    0.889</td> <td>    5.619</td> <td> 0.000</td> <td>    3.229</td> <td>    6.758</td>\n",
       "</tr>\n",
       "</table>\n",
       "<table class=\"simpletable\">\n",
       "<tr>\n",
       "  <th>Omnibus:</th>       <td> 8.705</td> <th>  Durbin-Watson:     </th> <td>   1.949</td>\n",
       "</tr>\n",
       "<tr>\n",
       "  <th>Prob(Omnibus):</th> <td> 0.013</td> <th>  Jarque-Bera (JB):  </th> <td>   8.392</td>\n",
       "</tr>\n",
       "<tr>\n",
       "  <th>Skew:</th>          <td>-0.655</td> <th>  Prob(JB):          </th> <td>  0.0151</td>\n",
       "</tr>\n",
       "<tr>\n",
       "  <th>Kurtosis:</th>      <td> 3.545</td> <th>  Cond. No.          </th> <td>    4.62</td>\n",
       "</tr>\n",
       "</table><br/><br/>Warnings:<br/>[1] Standard Errors assume that the covariance matrix of the errors is correctly specified."
      ],
      "text/plain": [
       "<class 'statsmodels.iolib.summary.Summary'>\n",
       "\"\"\"\n",
       "                            OLS Regression Results                            \n",
       "==============================================================================\n",
       "Dep. Variable:                      y   R-squared:                       0.968\n",
       "Model:                            OLS   Adj. R-squared:                  0.967\n",
       "Method:                 Least Squares   F-statistic:                     579.9\n",
       "Date:                Sun, 22 Sep 2019   Prob (F-statistic):           1.60e-69\n",
       "Time:                        16:22:25   Log-Likelihood:                -242.64\n",
       "No. Observations:                 100   AIC:                             495.3\n",
       "Df Residuals:                      95   BIC:                             508.3\n",
       "Df Model:                           5                                         \n",
       "Covariance Type:            nonrobust                                         \n",
       "==============================================================================\n",
       "                 coef    std err          t      P>|t|      [0.025      0.975]\n",
       "------------------------------------------------------------------------------\n",
       "x1             7.1558      0.815      8.783      0.000       5.538       8.773\n",
       "x2             6.4485      0.844      7.636      0.000       4.772       8.125\n",
       "x3            -0.8486      0.859     -0.988      0.326      -2.554       0.857\n",
       "x4            10.6733      0.934     11.425      0.000       8.819      12.528\n",
       "x5             4.9934      0.889      5.619      0.000       3.229       6.758\n",
       "==============================================================================\n",
       "Omnibus:                        8.705   Durbin-Watson:                   1.949\n",
       "Prob(Omnibus):                  0.013   Jarque-Bera (JB):                8.392\n",
       "Skew:                          -0.655   Prob(JB):                       0.0151\n",
       "Kurtosis:                       3.545   Cond. No.                         4.62\n",
       "==============================================================================\n",
       "\n",
       "Warnings:\n",
       "[1] Standard Errors assume that the covariance matrix of the errors is correctly specified.\n",
       "\"\"\""
      ]
     },
     "execution_count": 96,
     "metadata": {},
     "output_type": "execute_result"
    }
   ],
   "source": [
    "model_fit_f1_small.summary()"
   ]
  },
  {
   "cell_type": "code",
   "execution_count": 108,
   "metadata": {},
   "outputs": [],
   "source": [
    "from sklearn.linear_model import ElasticNet\n",
    "import itertools"
   ]
  },
  {
   "cell_type": "code",
   "execution_count": 100,
   "metadata": {},
   "outputs": [],
   "source": [
    "alphas = (0.1, 1, 10)\n",
    "l1_ratios = (0.1, 0.5, 0.9)"
   ]
  },
  {
   "cell_type": "code",
   "execution_count": 109,
   "metadata": {},
   "outputs": [],
   "source": [
    "models = []\n",
    "for alpha, l1_ratio in itertools.product(alphas, l1_ratios):\n",
    "    enet_model = ElasticNet(alpha=alpha, l1_ratio=l1_ratio)\n",
    "    enet_model.fit(Xf_1, yf_1)\n",
    "    models.append(enet_model)"
   ]
  },
  {
   "cell_type": "code",
   "execution_count": 113,
   "metadata": {},
   "outputs": [
    {
     "data": {
      "text/plain": [
       "[0.5404685703551697,\n",
       " 0.6033487691540151,\n",
       " 0.6798890239848202,\n",
       " 0.11386770651673883,\n",
       " 0.07006522444100172,\n",
       " 0.043507301769895146,\n",
       " 6.041857871230683e-05,\n",
       " 0.0,\n",
       " 0.0]"
      ]
     },
     "execution_count": 113,
     "metadata": {},
     "output_type": "execute_result"
    }
   ],
   "source": [
    "[m.score(Xf_1, yf_1) for m in models]"
   ]
  },
  {
   "cell_type": "code",
   "execution_count": 117,
   "metadata": {},
   "outputs": [
    {
     "name": "stderr",
     "output_type": "stream",
     "text": [
      "/anaconda3/lib/python3.7/site-packages/ipykernel_launcher.py:2: UserWarning: With alpha=0, this algorithm does not converge well. You are advised to use the LinearRegression estimator\n",
      "  \n",
      "/anaconda3/lib/python3.7/site-packages/sklearn/linear_model/coordinate_descent.py:478: UserWarning: Coordinate descent with no regularization may lead to unexpected results and is discouraged.\n",
      "  positive)\n",
      "/anaconda3/lib/python3.7/site-packages/sklearn/linear_model/coordinate_descent.py:492: ConvergenceWarning: Objective did not converge. You might want to increase the number of iterations. Fitting data with very small alpha may cause precision problems.\n",
      "  ConvergenceWarning)\n"
     ]
    },
    {
     "data": {
      "text/plain": [
       "0.904893065038471"
      ]
     },
     "execution_count": 117,
     "metadata": {},
     "output_type": "execute_result"
    }
   ],
   "source": [
    "enet = ElasticNet(alpha=0)\n",
    "enet.fit(Xf_bigbig, yf_1)\n",
    "enet.score(Xf_bigbig, yf_1)"
   ]
  },
  {
   "cell_type": "code",
   "execution_count": 118,
   "metadata": {
    "scrolled": true
   },
   "outputs": [
    {
     "data": {
      "text/plain": [
       "0.9443254104466511"
      ]
     },
     "execution_count": 118,
     "metadata": {},
     "output_type": "execute_result"
    }
   ],
   "source": [
    "from sklearn.linear_model import LinearRegression\n",
    "linmod = LinearRegression()\n",
    "linmod.fit(Xf_bigbig, yf_1)\n",
    "linmod.score(Xf_bigbig, yf_1)"
   ]
  },
  {
   "cell_type": "markdown",
   "metadata": {},
   "source": [
    "# Minimizing Cross-Validated RMSE"
   ]
  },
  {
   "cell_type": "code",
   "execution_count": 127,
   "metadata": {},
   "outputs": [],
   "source": [
    "from sklearn.model_selection import cross_val_score\n",
    "from sklearn.linear_model import Lasso, Ridge, ElasticNet"
   ]
  },
  {
   "cell_type": "code",
   "execution_count": 121,
   "metadata": {},
   "outputs": [],
   "source": [
    "Xf_1, yf_1 = make_friedman1(n_samples=100, n_features=5, noise=1, random_state=42)"
   ]
  },
  {
   "cell_type": "markdown",
   "metadata": {},
   "source": [
    "## Default Models"
   ]
  },
  {
   "cell_type": "code",
   "execution_count": 125,
   "metadata": {},
   "outputs": [
    {
     "data": {
      "text/plain": [
       "8.424369288142406"
      ]
     },
     "execution_count": 125,
     "metadata": {},
     "output_type": "execute_result"
    }
   ],
   "source": [
    "estimator = LinearRegression()\n",
    "X = Xf_1\n",
    "y = yf_1\n",
    "np.mean(-1 * cross_val_score(estimator=estimator, X=X, y=y, scoring='neg_mean_squared_error', cv=10))"
   ]
  },
  {
   "cell_type": "code",
   "execution_count": 128,
   "metadata": {},
   "outputs": [
    {
     "data": {
      "text/plain": [
       "26.144689505438038"
      ]
     },
     "execution_count": 128,
     "metadata": {},
     "output_type": "execute_result"
    }
   ],
   "source": [
    "estimator = Lasso()\n",
    "X = Xf_1\n",
    "y = yf_1\n",
    "np.mean(-1 * cross_val_score(estimator=estimator, X=X, y=y, scoring='neg_mean_squared_error', cv=10))"
   ]
  },
  {
   "cell_type": "code",
   "execution_count": 129,
   "metadata": {},
   "outputs": [
    {
     "data": {
      "text/plain": [
       "8.493563060679419"
      ]
     },
     "execution_count": 129,
     "metadata": {},
     "output_type": "execute_result"
    }
   ],
   "source": [
    "estimator = Ridge()\n",
    "X = Xf_1\n",
    "y = yf_1\n",
    "np.mean(-1 * cross_val_score(estimator=estimator, X=X, y=y, scoring='neg_mean_squared_error', cv=10))"
   ]
  },
  {
   "cell_type": "code",
   "execution_count": 130,
   "metadata": {},
   "outputs": [
    {
     "data": {
      "text/plain": [
       "24.680083197094962"
      ]
     },
     "execution_count": 130,
     "metadata": {},
     "output_type": "execute_result"
    }
   ],
   "source": [
    "estimator = ElasticNet()\n",
    "X = Xf_1\n",
    "y = yf_1\n",
    "np.mean(-1 * cross_val_score(estimator=estimator, X=X, y=y, scoring='neg_mean_squared_error', cv=10))"
   ]
  },
  {
   "cell_type": "markdown",
   "metadata": {},
   "source": [
    "## Adding new features"
   ]
  },
  {
   "cell_type": "code",
   "execution_count": 133,
   "metadata": {},
   "outputs": [
    {
     "data": {
      "text/plain": [
       "4.681522943782282"
      ]
     },
     "execution_count": 133,
     "metadata": {},
     "output_type": "execute_result"
    }
   ],
   "source": [
    "estimator = LinearRegression()\n",
    "X = np.concatenate([Xf_1, Xf_1**2, np.sqrt(Xf_1), np.sin(Xf_1), np.log(Xf_1)], axis=1)\n",
    "y = yf_1\n",
    "np.mean(-1 * cross_val_score(estimator=estimator, X=X, y=y, scoring='neg_mean_squared_error', cv=10))"
   ]
  },
  {
   "cell_type": "code",
   "execution_count": 134,
   "metadata": {},
   "outputs": [
    {
     "data": {
      "text/plain": [
       "13.392831983893071"
      ]
     },
     "execution_count": 134,
     "metadata": {},
     "output_type": "execute_result"
    }
   ],
   "source": [
    "estimator = Lasso()\n",
    "X = np.concatenate([Xf_1, Xf_1**2, np.sqrt(Xf_1), np.sin(Xf_1), np.log(Xf_1)], axis=1)\n",
    "y = yf_1\n",
    "np.mean(-1 * cross_val_score(estimator=estimator, X=X, y=y, scoring='neg_mean_squared_error', cv=10))"
   ]
  },
  {
   "cell_type": "code",
   "execution_count": 135,
   "metadata": {},
   "outputs": [
    {
     "data": {
      "text/plain": [
       "5.721982189931123"
      ]
     },
     "execution_count": 135,
     "metadata": {},
     "output_type": "execute_result"
    }
   ],
   "source": [
    "estimator = Ridge()\n",
    "X = np.concatenate([Xf_1, Xf_1**2, np.sqrt(Xf_1), np.sin(Xf_1), np.log(Xf_1)], axis=1)\n",
    "y = yf_1\n",
    "np.mean(-1 * cross_val_score(estimator=estimator, X=X, y=y, scoring='neg_mean_squared_error', cv=10))"
   ]
  },
  {
   "cell_type": "code",
   "execution_count": 136,
   "metadata": {},
   "outputs": [
    {
     "data": {
      "text/plain": [
       "12.187767079870495"
      ]
     },
     "execution_count": 136,
     "metadata": {},
     "output_type": "execute_result"
    }
   ],
   "source": [
    "estimator = ElasticNet()\n",
    "X = np.concatenate([Xf_1, Xf_1**2, np.sqrt(Xf_1), np.sin(Xf_1), np.log(Xf_1)], axis=1)\n",
    "y = yf_1\n",
    "np.mean(-1 * cross_val_score(estimator=estimator, X=X, y=y, scoring='neg_mean_squared_error', cv=10))"
   ]
  },
  {
   "cell_type": "markdown",
   "metadata": {},
   "source": [
    "Linear Regression is still the top-performing model, which strikes me as odd...Hmm. Lets try something that's really flexible.\n",
    "\n",
    "## Random Forest"
   ]
  },
  {
   "cell_type": "code",
   "execution_count": 137,
   "metadata": {},
   "outputs": [],
   "source": [
    "from sklearn.ensemble import RandomForestRegressor"
   ]
  },
  {
   "cell_type": "code",
   "execution_count": 142,
   "metadata": {},
   "outputs": [
    {
     "data": {
      "text/plain": [
       "7.668276669282363"
      ]
     },
     "execution_count": 142,
     "metadata": {},
     "output_type": "execute_result"
    }
   ],
   "source": [
    "estimator = RandomForestRegressor(n_estimators=100) #specifying n_estimators to silence FutureWarning\n",
    "X = Xf_1\n",
    "y = yf_1\n",
    "np.mean(-1 * cross_val_score(estimator=estimator, X=X, y=y, scoring='neg_mean_squared_error', cv=10))"
   ]
  },
  {
   "cell_type": "code",
   "execution_count": 143,
   "metadata": {},
   "outputs": [
    {
     "data": {
      "text/plain": [
       "7.865871327144687"
      ]
     },
     "execution_count": 143,
     "metadata": {},
     "output_type": "execute_result"
    }
   ],
   "source": [
    "estimator = RandomForestRegressor(n_estimators=100) #specifying n_estimators to silence FutureWarning\n",
    "X = np.concatenate([Xf_1, Xf_1**2, np.sqrt(Xf_1), np.sin(Xf_1), np.log(Xf_1)], axis=1)\n",
    "y = yf_1\n",
    "np.mean(-1 * cross_val_score(estimator=estimator, X=X, y=y, scoring='neg_mean_squared_error', cv=10))"
   ]
  },
  {
   "cell_type": "code",
   "execution_count": 144,
   "metadata": {},
   "outputs": [],
   "source": [
    "RandomForestRegressor?"
   ]
  },
  {
   "cell_type": "markdown",
   "metadata": {},
   "source": [
    "## SVM"
   ]
  },
  {
   "cell_type": "code",
   "execution_count": 150,
   "metadata": {},
   "outputs": [],
   "source": [
    "from sklearn.svm import SVR"
   ]
  },
  {
   "cell_type": "code",
   "execution_count": 157,
   "metadata": {},
   "outputs": [
    {
     "data": {
      "text/plain": [
       "10.324748658401871"
      ]
     },
     "execution_count": 157,
     "metadata": {},
     "output_type": "execute_result"
    }
   ],
   "source": [
    "estimator = SVR(gamma='scale') #setting gamma to prevent FutureWarning\n",
    "X = Xf_1\n",
    "y = yf_1\n",
    "np.mean(-1 * cross_val_score(estimator=estimator, X=X, y=y, scoring='neg_mean_squared_error', cv=10))"
   ]
  },
  {
   "cell_type": "code",
   "execution_count": 158,
   "metadata": {},
   "outputs": [
    {
     "data": {
      "text/plain": [
       "10.097958873581224"
      ]
     },
     "execution_count": 158,
     "metadata": {},
     "output_type": "execute_result"
    }
   ],
   "source": [
    "estimator = SVR(gamma='scale') #specifying n_estimators to silence FutureWarning\n",
    "X = np.concatenate([Xf_1, Xf_1**2, np.sqrt(Xf_1), np.sin(Xf_1), np.log(Xf_1)], axis=1)\n",
    "y = yf_1\n",
    "np.mean(-1 * cross_val_score(estimator=estimator, X=X, y=y, scoring='neg_mean_squared_error', cv=10))"
   ]
  },
  {
   "cell_type": "markdown",
   "metadata": {},
   "source": [
    "## Standardization\n",
    "I suppose we haven't standardized our data yet... Let's try that."
   ]
  },
  {
   "cell_type": "code",
   "execution_count": 145,
   "metadata": {},
   "outputs": [],
   "source": [
    "from sklearn.preprocessing import StandardScaler"
   ]
  },
  {
   "cell_type": "code",
   "execution_count": 160,
   "metadata": {},
   "outputs": [],
   "source": [
    "x_scaler = StandardScaler()\n",
    "y_scaler = StandardScaler()"
   ]
  },
  {
   "cell_type": "code",
   "execution_count": 163,
   "metadata": {},
   "outputs": [
    {
     "data": {
      "text/plain": [
       "0.322335031585955"
      ]
     },
     "execution_count": 163,
     "metadata": {},
     "output_type": "execute_result"
    }
   ],
   "source": [
    "estimator = LinearRegression()\n",
    "X = Xf_1\n",
    "X = x_scaler.fit_transform(X)\n",
    "y = yf_1\n",
    "y = y_scaler.fit_transform(y.reshape(-1, 1))\n",
    "np.mean(-1 * cross_val_score(estimator=estimator, X=X, y=y, scoring='neg_mean_squared_error', cv=10))"
   ]
  },
  {
   "cell_type": "code",
   "execution_count": 164,
   "metadata": {},
   "outputs": [
    {
     "data": {
      "text/plain": [
       "0.17912543887152732"
      ]
     },
     "execution_count": 164,
     "metadata": {},
     "output_type": "execute_result"
    }
   ],
   "source": [
    "estimator = LinearRegression()\n",
    "X = np.concatenate([Xf_1, Xf_1**2, np.sqrt(Xf_1), np.sin(Xf_1), np.log(Xf_1)], axis=1)\n",
    "X = x_scaler.fit_transform(X)\n",
    "y = yf_1\n",
    "y = y_scaler.fit_transform(y.reshape(-1, 1))\n",
    "np.mean(-1 * cross_val_score(estimator=estimator, X=X, y=y, scoring='neg_mean_squared_error', cv=10))"
   ]
  },
  {
   "cell_type": "code",
   "execution_count": 165,
   "metadata": {},
   "outputs": [
    {
     "data": {
      "text/plain": [
       "1.010467196661796"
      ]
     },
     "execution_count": 165,
     "metadata": {},
     "output_type": "execute_result"
    }
   ],
   "source": [
    "estimator = Lasso()\n",
    "X = Xf_1\n",
    "X = x_scaler.fit_transform(X)\n",
    "y = yf_1\n",
    "y = y_scaler.fit_transform(y.reshape(-1, 1))\n",
    "np.mean(-1 * cross_val_score(estimator=estimator, X=X, y=y, scoring='neg_mean_squared_error', cv=10))"
   ]
  },
  {
   "cell_type": "code",
   "execution_count": 166,
   "metadata": {},
   "outputs": [
    {
     "data": {
      "text/plain": [
       "1.010467196661796"
      ]
     },
     "execution_count": 166,
     "metadata": {},
     "output_type": "execute_result"
    }
   ],
   "source": [
    "estimator = Lasso()\n",
    "X = np.concatenate([Xf_1, Xf_1**2, np.sqrt(Xf_1), np.sin(Xf_1), np.log(Xf_1)], axis=1)\n",
    "X = x_scaler.fit_transform(X)\n",
    "y = yf_1\n",
    "y = y_scaler.fit_transform(y.reshape(-1, 1))\n",
    "np.mean(-1 * cross_val_score(estimator=estimator, X=X, y=y, scoring='neg_mean_squared_error', cv=10))"
   ]
  },
  {
   "cell_type": "code",
   "execution_count": 167,
   "metadata": {},
   "outputs": [
    {
     "data": {
      "text/plain": [
       "0.3217127907564251"
      ]
     },
     "execution_count": 167,
     "metadata": {},
     "output_type": "execute_result"
    }
   ],
   "source": [
    "estimator = Ridge()\n",
    "X = Xf_1\n",
    "X = x_scaler.fit_transform(X)\n",
    "y = yf_1\n",
    "y = y_scaler.fit_transform(y.reshape(-1, 1))\n",
    "np.mean(-1 * cross_val_score(estimator=estimator, X=X, y=y, scoring='neg_mean_squared_error', cv=10))"
   ]
  },
  {
   "cell_type": "code",
   "execution_count": 168,
   "metadata": {},
   "outputs": [
    {
     "data": {
      "text/plain": [
       "0.16017078419677527"
      ]
     },
     "execution_count": 168,
     "metadata": {},
     "output_type": "execute_result"
    }
   ],
   "source": [
    "estimator = Ridge()\n",
    "X = np.concatenate([Xf_1, Xf_1**2, np.sqrt(Xf_1), np.sin(Xf_1), np.log(Xf_1)], axis=1)\n",
    "X = x_scaler.fit_transform(X)\n",
    "y = yf_1\n",
    "y = y_scaler.fit_transform(y.reshape(-1, 1))\n",
    "np.mean(-1 * cross_val_score(estimator=estimator, X=X, y=y, scoring='neg_mean_squared_error', cv=10))"
   ]
  },
  {
   "cell_type": "code",
   "execution_count": 169,
   "metadata": {},
   "outputs": [
    {
     "data": {
      "text/plain": [
       "0.8735566046178904"
      ]
     },
     "execution_count": 169,
     "metadata": {},
     "output_type": "execute_result"
    }
   ],
   "source": [
    "estimator = ElasticNet()\n",
    "X = Xf_1\n",
    "X = x_scaler.fit_transform(X)\n",
    "y = yf_1\n",
    "y = y_scaler.fit_transform(y.reshape(-1, 1))\n",
    "np.mean(-1 * cross_val_score(estimator=estimator, X=X, y=y, scoring='neg_mean_squared_error', cv=10))"
   ]
  },
  {
   "cell_type": "code",
   "execution_count": 170,
   "metadata": {},
   "outputs": [
    {
     "data": {
      "text/plain": [
       "0.8399301181717016"
      ]
     },
     "execution_count": 170,
     "metadata": {},
     "output_type": "execute_result"
    }
   ],
   "source": [
    "estimator = ElasticNet()\n",
    "X = np.concatenate([Xf_1, Xf_1**2, np.sqrt(Xf_1), np.sin(Xf_1), np.log(Xf_1)], axis=1)\n",
    "X = x_scaler.fit_transform(X)\n",
    "y = yf_1\n",
    "y = y_scaler.fit_transform(y.reshape(-1, 1))\n",
    "np.mean(-1 * cross_val_score(estimator=estimator, X=X, y=y, scoring='neg_mean_squared_error', cv=10))"
   ]
  },
  {
   "cell_type": "markdown",
   "metadata": {},
   "source": [
    "This appears to show that Ridge is the way to go here."
   ]
  },
  {
   "cell_type": "code",
   "execution_count": 175,
   "metadata": {
    "scrolled": true
   },
   "outputs": [
    {
     "name": "stderr",
     "output_type": "stream",
     "text": [
      "/anaconda3/lib/python3.7/site-packages/sklearn/linear_model/coordinate_descent.py:492: ConvergenceWarning: Objective did not converge. You might want to increase the number of iterations. Fitting data with very small alpha may cause precision problems.\n",
      "  ConvergenceWarning)\n",
      "/anaconda3/lib/python3.7/site-packages/sklearn/linear_model/coordinate_descent.py:492: ConvergenceWarning: Objective did not converge. You might want to increase the number of iterations. Fitting data with very small alpha may cause precision problems.\n",
      "  ConvergenceWarning)\n",
      "/anaconda3/lib/python3.7/site-packages/sklearn/linear_model/coordinate_descent.py:492: ConvergenceWarning: Objective did not converge. You might want to increase the number of iterations. Fitting data with very small alpha may cause precision problems.\n",
      "  ConvergenceWarning)\n",
      "/anaconda3/lib/python3.7/site-packages/sklearn/linear_model/coordinate_descent.py:492: ConvergenceWarning: Objective did not converge. You might want to increase the number of iterations. Fitting data with very small alpha may cause precision problems.\n",
      "  ConvergenceWarning)\n",
      "/anaconda3/lib/python3.7/site-packages/sklearn/linear_model/coordinate_descent.py:492: ConvergenceWarning: Objective did not converge. You might want to increase the number of iterations. Fitting data with very small alpha may cause precision problems.\n",
      "  ConvergenceWarning)\n",
      "/anaconda3/lib/python3.7/site-packages/sklearn/linear_model/coordinate_descent.py:492: ConvergenceWarning: Objective did not converge. You might want to increase the number of iterations. Fitting data with very small alpha may cause precision problems.\n",
      "  ConvergenceWarning)\n",
      "/anaconda3/lib/python3.7/site-packages/sklearn/linear_model/coordinate_descent.py:492: ConvergenceWarning: Objective did not converge. You might want to increase the number of iterations. Fitting data with very small alpha may cause precision problems.\n",
      "  ConvergenceWarning)\n",
      "/anaconda3/lib/python3.7/site-packages/sklearn/linear_model/coordinate_descent.py:492: ConvergenceWarning: Objective did not converge. You might want to increase the number of iterations. Fitting data with very small alpha may cause precision problems.\n",
      "  ConvergenceWarning)\n",
      "/anaconda3/lib/python3.7/site-packages/sklearn/linear_model/coordinate_descent.py:492: ConvergenceWarning: Objective did not converge. You might want to increase the number of iterations. Fitting data with very small alpha may cause precision problems.\n",
      "  ConvergenceWarning)\n",
      "/anaconda3/lib/python3.7/site-packages/sklearn/linear_model/coordinate_descent.py:492: ConvergenceWarning: Objective did not converge. You might want to increase the number of iterations. Fitting data with very small alpha may cause precision problems.\n",
      "  ConvergenceWarning)\n"
     ]
    },
    {
     "name": "stdout",
     "output_type": "stream",
     "text": [
      "0.0 0.26896777228620766\n",
      "0.010101010101010102 0.27610113198652336\n",
      "0.020202020202020204 0.28387100636427237\n",
      "0.030303030303030304 0.2924492725191968\n",
      "0.04040404040404041 0.30163027900961203\n",
      "0.05050505050505051 0.30995008366288157\n",
      "0.06060606060606061 0.31818752436830156\n",
      "0.07070707070707072 0.32722103745697106\n",
      "0.08080808080808081 0.33720802636898545\n",
      "0.09090909090909091 0.34810778635308254\n",
      "0.10101010101010102 0.3597951660659965\n",
      "0.11111111111111112 0.3721701094542657\n",
      "0.12121212121212122 0.3851085875881385\n",
      "0.13131313131313133 0.39852106250872044\n",
      "0.14141414141414144 0.4126224040973544\n",
      "0.15151515151515152 0.42741416423251904\n",
      "0.16161616161616163 0.44255177123103345\n",
      "0.17171717171717174 0.45840123197178784\n",
      "0.18181818181818182 0.47498862835389344\n",
      "0.19191919191919193 0.491841855500752\n",
      "0.20202020202020204 0.5085626186320261\n",
      "0.21212121212121213 0.5255912587834094\n",
      "0.22222222222222224 0.5427256102912767\n",
      "0.23232323232323235 0.5597402053382796\n",
      "0.24242424242424243 0.5762860122602096\n",
      "0.25252525252525254 0.5914851627811923\n",
      "0.26262626262626265 0.6064777429020755\n",
      "0.27272727272727276 0.6193957754986418\n",
      "0.2828282828282829 0.6315793584727308\n",
      "0.29292929292929293 0.643899948991845\n",
      "0.30303030303030304 0.6556192824669307\n",
      "0.31313131313131315 0.6670919254861805\n",
      "0.32323232323232326 0.6783163652314617\n",
      "0.33333333333333337 0.6892159721988276\n",
      "0.3434343434343435 0.7000833654322387\n",
      "0.3535353535353536 0.7113221724883813\n",
      "0.36363636363636365 0.7221602727030595\n",
      "0.37373737373737376 0.7314059292361836\n",
      "0.38383838383838387 0.7407555715300387\n",
      "0.393939393939394 0.7497278506749079\n",
      "0.4040404040404041 0.7584176964617254\n",
      "0.4141414141414142 0.7669730805827437\n",
      "0.42424242424242425 0.7757156235519993\n",
      "0.43434343434343436 0.7841434549031828\n",
      "0.4444444444444445 0.7926142763573063\n",
      "0.4545454545454546 0.8009069413270439\n",
      "0.4646464646464647 0.8092597094733607\n",
      "0.4747474747474748 0.8177762086648567\n",
      "0.48484848484848486 0.8264305383705803\n",
      "0.494949494949495 0.8353535915489113\n",
      "0.5050505050505051 0.8445387284439484\n",
      "0.5151515151515152 0.8538563458295171\n",
      "0.5252525252525253 0.8633380196788224\n",
      "0.5353535353535354 0.8730285859142052\n",
      "0.5454545454545455 0.8829358661489792\n",
      "0.5555555555555556 0.8930634366940273\n",
      "0.5656565656565657 0.9032921625049962\n",
      "0.5757575757575758 0.913648660812485\n",
      "0.5858585858585859 0.9242280384896324\n",
      "0.595959595959596 0.9349629991478586\n",
      "0.6060606060606061 0.9458122401927878\n",
      "0.6161616161616162 0.9567525849917417\n",
      "0.6262626262626263 0.9678113909621409\n",
      "0.6363636363636365 0.9790991458771758\n",
      "0.6464646464646465 0.9885930128527916\n",
      "0.6565656565656566 0.9943396803772162\n",
      "0.6666666666666667 0.999033668718946\n",
      "0.6767676767676768 1.0033148691425735\n",
      "0.686868686868687 1.0061708721267988\n",
      "0.696969696969697 1.0085289848941188\n",
      "0.7070707070707072 1.0095153671667643\n",
      "0.7171717171717172 1.0100920612307394\n",
      "0.7272727272727273 1.0103979555862148\n",
      "0.7373737373737375 1.010467196661796\n",
      "0.7474747474747475 1.010467196661796\n",
      "0.7575757575757577 1.010467196661796\n",
      "0.7676767676767677 1.010467196661796\n",
      "0.7777777777777778 1.010467196661796\n",
      "0.787878787878788 1.010467196661796\n",
      "0.797979797979798 1.010467196661796\n",
      "0.8080808080808082 1.010467196661796\n",
      "0.8181818181818182 1.010467196661796\n",
      "0.8282828282828284 1.010467196661796\n",
      "0.8383838383838385 1.010467196661796\n",
      "0.8484848484848485 1.010467196661796\n",
      "0.8585858585858587 1.010467196661796\n",
      "0.8686868686868687 1.010467196661796\n",
      "0.8787878787878789 1.010467196661796\n",
      "0.888888888888889 1.010467196661796\n",
      "0.8989898989898991 1.010467196661796\n",
      "0.9090909090909092 1.010467196661796\n",
      "0.9191919191919192 1.010467196661796\n",
      "0.9292929292929294 1.010467196661796\n",
      "0.9393939393939394 1.010467196661796\n",
      "0.9494949494949496 1.010467196661796\n",
      "0.9595959595959597 1.010467196661796\n",
      "0.9696969696969697 1.010467196661796\n",
      "0.9797979797979799 1.010467196661796\n",
      "0.98989898989899 1.010467196661796\n",
      "1.0 1.010467196661796\n"
     ]
    }
   ],
   "source": [
    "l1_ratios = np.linspace(0, 1, num=100)\n",
    "for r in l1_ratios:\n",
    "    estimator = ElasticNet(l1_ratio=r)\n",
    "    X = np.concatenate([Xf_1, Xf_1**2, np.sqrt(Xf_1), np.sin(Xf_1), np.log(Xf_1)], axis=1)\n",
    "    X = x_scaler.fit_transform(X)\n",
    "    y = yf_1\n",
    "    y = y_scaler.fit_transform(y.reshape(-1, 1))\n",
    "    print(r, np.mean(-1 * cross_val_score(estimator=estimator, X=X, y=y, scoring='neg_mean_squared_error', cv=10)))"
   ]
  },
  {
   "cell_type": "markdown",
   "metadata": {},
   "source": [
    "This appears to show that Ridge with an alpha of 0.2 is the best."
   ]
  },
  {
   "cell_type": "code",
   "execution_count": 178,
   "metadata": {},
   "outputs": [
    {
     "name": "stdout",
     "output_type": "stream",
     "text": [
      "0.0 0.17912543887247195\n",
      "0.01001001001001001 0.16558037916996438\n",
      "0.02002002002002002 0.15991641909499243\n",
      "0.03003003003003003 0.15694172108975063\n",
      "0.04004004004004004 0.1550920966963038\n",
      "0.050050050050050046 0.1538303267508808\n",
      "0.06006006006006006 0.1529181510697061\n",
      "0.07007007007007007 0.15223275024736568\n",
      "0.08008008008008008 0.15170404167565663\n",
      "0.09009009009009009 0.151288953529287\n",
      "0.10010010010010009 0.15095945872200525\n",
      "0.11011011011011011 0.15069646923336644\n",
      "0.12012012012012012 0.15048648939139334\n",
      "0.13013013013013014 0.15031967321985318\n",
      "0.14014014014014015 0.15018864246382088\n",
      "0.15015015015015015 0.15008773851751495\n",
      "0.16016016016016016 0.15001253280043672\n",
      "0.17017017017017017 0.1499594968633052\n",
      "0.18018018018018017 0.14992577441265645\n",
      "0.19019019019019018 0.1499090202054045\n",
      "0.20020020020020018 0.14990728391029812\n",
      "0.21021021021021022 0.1499189248767014\n",
      "0.22022022022022023 0.14994254856794698\n",
      "0.23023023023023023 0.14997695845172393\n",
      "0.24024024024024024 0.15002111909718402\n",
      "0.2502502502502503 0.15007412751714577\n",
      "0.2602602602602603 0.15013519065852166\n",
      "0.2702702702702703 0.1502036075344531\n",
      "0.2802802802802803 0.15027875490112305\n",
      "0.2902902902902903 0.15036007567041007\n",
      "0.3003003003003003 0.15044706945509603\n",
      "0.3103103103103103 0.1505392847918421\n",
      "0.3203203203203203 0.15063631269560634\n",
      "0.3303303303303303 0.1507377812793309\n",
      "0.34034034034034033 0.15084335123249623\n",
      "0.35035035035035034 0.15095271199718022\n",
      "0.36036036036036034 0.15106557851447686\n",
      "0.37037037037037035 0.15118168844035748\n",
      "0.38038038038038036 0.1513007997503086\n",
      "0.39039039039039036 0.15142268866784042\n",
      "0.40040040040040037 0.15154714786433182\n",
      "0.41041041041041043 0.15167398488739217\n",
      "0.42042042042042044 0.15180302078269448\n",
      "0.43043043043043044 0.1519340888803887\n",
      "0.44044044044044045 0.15206703372219735\n",
      "0.45045045045045046 0.15220171010928296\n",
      "0.46046046046046046 0.15233798225426698\n",
      "0.47047047047047047 0.15247572302341617\n",
      "0.4804804804804805 0.15261481325721388\n",
      "0.4904904904904905 0.15275514115932787\n",
      "0.5005005005005005 0.1528966017454738\n",
      "0.5105105105105106 0.15303909634492152\n",
      "0.5205205205205206 0.15318253214841962\n",
      "0.5305305305305306 0.15332682179717852\n",
      "0.5405405405405406 0.15347188300830034\n",
      "0.5505505505505506 0.15361763823263208\n",
      "0.5605605605605606 0.15376401434157497\n",
      "0.5705705705705706 0.153910942339798\n",
      "0.5805805805805806 0.15405835710120525\n",
      "0.5905905905905906 0.15420619712582057\n",
      "0.6006006006006006 0.1543544043155396\n",
      "0.6106106106106106 0.1545029237669326\n",
      "0.6206206206206206 0.15465170357950275\n",
      "0.6306306306306306 0.15480069467796598\n",
      "0.6406406406406406 0.15494985064730196\n",
      "0.6506506506506506 0.15509912757943195\n",
      "0.6606606606606606 0.1552484839305323\n",
      "0.6706706706706707 0.15539788038806204\n",
      "0.6806806806806807 0.15554727974671395\n",
      "0.6906906906906907 0.15569664679254094\n",
      "0.7007007007007007 0.1558459481946132\n",
      "0.7107107107107107 0.15599515240360443\n",
      "0.7207207207207207 0.15614422955677568\n",
      "0.7307307307307307 0.15629315138886396\n",
      "0.7407407407407407 0.15644189114843354\n",
      "0.7507507507507507 0.1565904235192894\n",
      "0.7607607607607607 0.15673872454658638\n",
      "0.7707707707707707 0.15688677156729042\n",
      "0.7807807807807807 0.15703454314469859\n",
      "0.7907907907907907 0.15718201900672063\n",
      "0.8008008008008007 0.1573291799876821\n",
      "0.8108108108108109 0.1574760079733959\n",
      "0.8208208208208209 0.15762248584929686\n",
      "0.8308308308308309 0.15776859745143093\n",
      "0.8408408408408409 0.15791432752012\n",
      "0.8508508508508509 0.15805966165612653\n",
      "0.8608608608608609 0.15820458627916306\n",
      "0.8708708708708709 0.15834908858860114\n",
      "0.8808808808808809 0.15849315652624188\n",
      "0.8908908908908909 0.15863677874102425\n",
      "0.9009009009009009 0.15877994455555608\n",
      "0.9109109109109109 0.1589226439343533\n",
      "0.9209209209209209 0.15906486745369755\n",
      "0.9309309309309309 0.1592066062730056\n",
      "0.9409409409409409 0.15934785210763397\n",
      "0.950950950950951 0.1594885972030287\n",
      "0.960960960960961 0.15962883431015318\n",
      "0.970970970970971 0.15976855666211193\n",
      "0.980980980980981 0.15990775795191436\n",
      "0.990990990990991 0.16004643231130705\n",
      "1.001001001001001 0.16018457429062533\n",
      "1.011011011011011 0.16032217883960156\n",
      "1.021021021021021 0.16045924128908196\n",
      "1.031031031031031 0.16059575733360504\n",
      "1.0410410410410411 0.16073172301479505\n",
      "1.0510510510510511 0.16086713470552808\n",
      "1.0610610610610611 0.1610019890948301\n",
      "1.0710710710710711 0.16113628317347087\n",
      "1.0810810810810811 0.16127001422021822\n",
      "1.0910910910910911 0.1614031797887173\n",
      "1.1011011011011012 0.16153577769496555\n",
      "1.1111111111111112 0.16166780600535208\n",
      "1.1211211211211212 0.16179926302523692\n",
      "1.1311311311311312 0.16193014728803692\n",
      "1.1411411411411412 0.16206045754480286\n",
      "1.1511511511511512 0.16219019275425242\n",
      "1.1611611611611612 0.16231935207325004\n",
      "1.1711711711711712 0.16244793484770098\n",
      "1.1811811811811812 0.16257594060384598\n",
      "1.1911911911911912 0.16270336903993618\n",
      "1.2012012012012012 0.16283022001827005\n",
      "1.2112112112112112 0.16295649355757588\n",
      "1.2212212212212212 0.16308218982572395\n",
      "1.2312312312312312 0.16320730913274967\n",
      "1.2412412412412412 0.16333185192418156\n",
      "1.2512512512512513 0.1634558187746503\n",
      "1.2612612612612613 0.16357921038177342\n",
      "1.2712712712712713 0.16370202756029842\n",
      "1.2812812812812813 0.16382427123649654\n",
      "1.2912912912912913 0.16394594244279306\n",
      "1.3013013013013013 0.16406704231262445\n",
      "1.3113113113113113 0.16418757207551224\n",
      "1.3213213213213213 0.16430753305234544\n",
      "1.3313313313313313 0.1644269266508597\n",
      "1.3413413413413413 0.16454575436130625\n",
      "1.3513513513513513 0.1646640177523025\n",
      "1.3613613613613613 0.16478171846685533\n",
      "1.3713713713713713 0.16489885821855094\n",
      "1.3813813813813813 0.16501543878790276\n",
      "1.3913913913913913 0.16513146201885054\n",
      "1.4014014014014013 0.1652469298154073\n",
      "1.4114114114114114 0.16536184413844254\n",
      "1.4214214214214214 0.16547620700260018\n",
      "1.4314314314314314 0.16559002047334398\n",
      "1.4414414414414414 0.16570328666412526\n",
      "1.4514514514514514 0.165816007733667\n",
      "1.4614614614614614 0.16592818588336203\n",
      "1.4714714714714714 0.16603982335477543\n",
      "1.4814814814814814 0.1661509224272541\n",
      "1.4914914914914914 0.16626148541563188\n",
      "1.5015015015015014 0.16637151466803063\n",
      "1.5115115115115114 0.16648101256375228\n",
      "1.5215215215215214 0.16658998151125795\n",
      "1.5315315315315314 0.16669842394622997\n",
      "1.5415415415415414 0.16680634232971486\n",
      "1.5515515515515514 0.1669137391463418\n",
      "1.5615615615615615 0.16702061690261732\n",
      "1.5715715715715715 0.16712697812528798\n",
      "1.5815815815815815 0.16723282535977277\n",
      "1.5915915915915915 0.16733816116865938\n",
      "1.6016016016016015 0.16744298813026498\n",
      "1.6116116116116117 0.16754730883725447\n",
      "1.6216216216216217 0.16765112589531858\n",
      "1.6316316316316317 0.1677544419219059\n",
      "1.6416416416416417 0.16785725954500902\n",
      "1.6516516516516517 0.167959581402001\n",
      "1.6616616616616617 0.168061410138521\n",
      "1.6716716716716717 0.168162748407407\n",
      "1.6816816816816818 0.1682635988676749\n",
      "1.6916916916916918 0.16836396418353833\n",
      "1.7017017017017018 0.16846384702347292\n",
      "1.7117117117117118 0.16856325005931921\n",
      "1.7217217217217218 0.16866217596542463\n",
      "1.7317317317317318 0.16876062741782225\n",
      "1.7417417417417418 0.1688586070934447\n",
      "1.7517517517517518 0.16895611766937316\n",
      "1.7617617617617618 0.16905316182211869\n",
      "1.7717717717717718 0.16914974222693507\n",
      "1.7817817817817818 0.16924586155716223\n",
      "1.7917917917917918 0.16934152248359813\n",
      "1.8018018018018018 0.16943672767389995\n",
      "1.8118118118118118 0.16953147979201064\n",
      "1.8218218218218218 0.1696257814976138\n",
      "1.8318318318318318 0.1697196354456097\n",
      "1.8418418418418419 0.16981304428561875\n",
      "1.8518518518518519 0.16990601066150685\n",
      "1.8618618618618619 0.1699985372109324\n",
      "1.8718718718718719 0.17009062656491383\n",
      "1.8818818818818819 0.17018228134741964\n",
      "1.8918918918918919 0.17027350417497772\n",
      "1.901901901901902 0.17036429765630107\n",
      "1.911911911911912 0.17045466439193513\n",
      "1.921921921921922 0.17054460697391977\n",
      "1.931931931931932 0.1706341279854703\n",
      "1.941941941941942 0.1707232300006733\n",
      "1.951951951951952 0.17081191558419823\n",
      "1.961961961961962 0.17090018729102363\n",
      "1.971971971971972 0.17098804766617942\n",
      "1.981981981981982 0.17107549924450005\n",
      "1.991991991991992 0.17116254455039412\n",
      "2.002002002002002 0.17124918609762368\n",
      "2.012012012012012 0.1713354263890991\n",
      "2.022022022022022 0.17142126791668233\n",
      "2.032032032032032 0.17150671316100383\n",
      "2.042042042042042 0.17159176459128997\n",
      "2.052052052052052 0.17167642466520014\n",
      "2.062062062062062 0.17176069582867484\n",
      "2.0720720720720722 0.17184458051579238\n",
      "2.0820820820820822 0.17192808114863625\n",
      "2.0920920920920922 0.17201120013717047\n",
      "2.1021021021021022 0.17209393987912358\n",
      "2.1121121121121122 0.17217630275988094\n",
      "2.1221221221221223 0.17225829115238556\n",
      "2.1321321321321323 0.1723399074170455\n",
      "2.1421421421421423 0.1724211539016499\n"
     ]
    },
    {
     "name": "stdout",
     "output_type": "stream",
     "text": [
      "2.1521521521521523 0.1725020329412903\n",
      "2.1621621621621623 0.1725825468582905\n",
      "2.1721721721721723 0.17266269796214137\n",
      "2.1821821821821823 0.1727424885494436\n",
      "2.1921921921921923 0.17282192090385431\n",
      "2.2022022022022023 0.1729009972960411\n",
      "2.2122122122122123 0.1729797199836409\n",
      "2.2222222222222223 0.17305809121122456\n",
      "2.2322322322322323 0.17313611321026495\n",
      "2.2422422422422423 0.17321378819911257\n",
      "2.2522522522522523 0.17329111838297356\n",
      "2.2622622622622623 0.17336810595389363\n",
      "2.2722722722722724 0.17344475309074417\n",
      "2.2822822822822824 0.17352106195921574\n",
      "2.2922922922922924 0.17359703471181245\n",
      "2.3023023023023024 0.17367267348785204\n",
      "2.3123123123123124 0.17374798041346845\n",
      "2.3223223223223224 0.17382295760161853\n",
      "2.3323323323323324 0.17389760715209163\n",
      "2.3423423423423424 0.17397193115152282\n",
      "2.3523523523523524 0.1740459316734084\n",
      "2.3623623623623624 0.17411961077812527\n",
      "2.3723723723723724 0.17419297051295227\n",
      "2.3823823823823824 0.1742660129120951\n",
      "2.3923923923923924 0.17433873999671173\n",
      "2.4024024024024024 0.17441115377494357\n",
      "2.4124124124124124 0.17448325624194547\n",
      "2.4224224224224224 0.17455504937992056\n",
      "2.4324324324324325 0.17462653515815524\n",
      "2.4424424424424425 0.17469771553305796\n",
      "2.4524524524524525 0.17476859244819842\n",
      "2.4624624624624625 0.17483916783434972\n",
      "2.4724724724724725 0.17490944360953084\n",
      "2.4824824824824825 0.17497942167905242\n",
      "2.4924924924924925 0.1750491039355639\n",
      "2.5025025025025025 0.17511849225909965\n",
      "2.5125125125125125 0.17518758851713032\n",
      "2.5225225225225225 0.17525639456461303\n",
      "2.5325325325325325 0.1753249122440436\n",
      "2.5425425425425425 0.17539314338550932\n",
      "2.5525525525525525 0.17546108980674407\n",
      "2.5625625625625625 0.17552875331318357\n",
      "2.5725725725725725 0.17559613569802185\n",
      "2.5825825825825826 0.17566323874226933\n",
      "2.5925925925925926 0.17573006421481002\n",
      "2.6026026026026026 0.17579661387246232\n",
      "2.6126126126126126 0.17586288946003786\n",
      "2.6226226226226226 0.17592889271040293\n",
      "2.6326326326326326 0.17599462534453977\n",
      "2.6426426426426426 0.17606008907160903\n",
      "2.6526526526526526 0.17612528558901205\n",
      "2.6626626626626626 0.1761902165824547\n",
      "2.6726726726726726 0.17625488372601103\n",
      "2.6826826826826826 0.17631928868218755\n",
      "2.6926926926926926 0.17638343310198829\n",
      "2.7027027027027026 0.17644731862498025\n",
      "2.7127127127127126 0.17651094687935784\n",
      "2.7227227227227226 0.1765743194820104\n",
      "2.7327327327327327 0.17663743803858753\n",
      "2.7427427427427427 0.17670030414356583\n",
      "2.7527527527527527 0.17676291938031558\n",
      "2.7627627627627627 0.176825285321168\n",
      "2.7727727727727727 0.17688740352748256\n",
      "2.7827827827827827 0.1769492755497138\n",
      "2.7927927927927927 0.17701090292747929\n",
      "2.8028028028028027 0.17707228718962734\n",
      "2.8128128128128127 0.17713342985430472\n",
      "2.8228228228228227 0.17719433242902377\n",
      "2.8328328328328327 0.1772549964107313\n",
      "2.8428428428428427 0.17731542328587582\n",
      "2.8528528528528527 0.17737561453047568\n",
      "2.8628628628628627 0.17743557161018658\n",
      "2.8728728728728727 0.1774952959803699\n",
      "2.8828828828828827 0.17755478908616065\n",
      "2.8928928928928928 0.17761405236253414\n",
      "2.9029029029029028 0.1776730872343749\n",
      "2.9129129129129128 0.1777318951165436\n",
      "2.9229229229229228 0.17779047741394427\n",
      "2.932932932932933 0.1778488355215927\n",
      "2.942942942942943 0.17790697082468224\n",
      "2.952952952952953 0.17796488469865182\n",
      "2.962962962962963 0.17802257850925232\n",
      "2.972972972972973 0.17808005361261364\n",
      "2.982982982982983 0.17813731135531097\n",
      "2.992992992992993 0.1781943530744311\n",
      "3.003003003003003 0.17825118009763885\n",
      "3.013013013013013 0.1783077937432422\n",
      "3.023023023023023 0.17836419532025938\n",
      "3.033033033033033 0.17842038612848238\n",
      "3.043043043043043 0.17847636745854356\n",
      "3.053053053053053 0.17853214059198064\n",
      "3.063063063063063 0.1785877068013\n",
      "3.073073073073073 0.1786430673500427\n",
      "3.083083083083083 0.17869822349284767\n",
      "3.093093093093093 0.1787531764755154\n",
      "3.103103103103103 0.17880792753507263\n",
      "3.113113113113113 0.17886247789983423\n",
      "3.123123123123123 0.17891682878946702\n",
      "3.133133133133133 0.17897098141505252\n",
      "3.143143143143143 0.17902493697914837\n",
      "3.153153153153153 0.17907869667585163\n",
      "3.163163163163163 0.1791322616908595\n",
      "3.173173173173173 0.1791856332015313\n",
      "3.183183183183183 0.17923881237694936\n",
      "3.193193193193193 0.17929180037797957\n",
      "3.203203203203203 0.17934459835733213\n",
      "3.2132132132132134 0.17939720745962154\n",
      "3.2232232232232234 0.17944962882142643\n",
      "3.2332332332332334 0.17950186357134826\n",
      "3.2432432432432434 0.17955391283007133\n",
      "3.2532532532532534 0.17960577771042124\n",
      "3.2632632632632634 0.17965745931742247\n",
      "3.2732732732732734 0.17970895874835782\n",
      "3.2832832832832834 0.1797602770928246\n",
      "3.2932932932932935 0.17981141543279294\n",
      "3.3033033033033035 0.179862374842662\n",
      "3.3133133133133135 0.17991315638931732\n",
      "3.3233233233233235 0.1799637611321865\n",
      "3.3333333333333335 0.18001419012329528\n",
      "3.3433433433433435 0.1800644444073231\n",
      "3.3533533533533535 0.1801145250216578\n",
      "3.3633633633633635 0.18016443299645107\n",
      "3.3733733733733735 0.18021416935467255\n",
      "3.3833833833833835 0.180263735112164\n",
      "3.3933933933933935 0.18031313127769272\n",
      "3.4034034034034035 0.18036235885300528\n",
      "3.4134134134134135 0.18041141883288012\n",
      "3.4234234234234235 0.18046031220518094\n",
      "3.4334334334334335 0.18050903995090775\n",
      "3.4434434434434436 0.18055760304424945\n",
      "3.4534534534534536 0.1806060024526363\n",
      "3.4634634634634636 0.18065423913678885\n",
      "3.4734734734734736 0.18070231405077075\n",
      "3.4834834834834836 0.1807502281420385\n",
      "3.4934934934934936 0.18079798235149142\n",
      "3.5035035035035036 0.18084557761352144\n",
      "3.5135135135135136 0.1808930148560629\n",
      "3.5235235235235236 0.180940295000641\n",
      "3.5335335335335336 0.18098741896242077\n",
      "3.5435435435435436 0.18103438765025562\n",
      "3.5535535535535536 0.18108120196673447\n",
      "3.5635635635635636 0.18112786280823032\n",
      "3.5735735735735736 0.18117437106494744\n",
      "3.5835835835835836 0.18122072762096741\n",
      "3.5935935935935936 0.18126693335429664\n",
      "3.6036036036036037 0.18131298913691202\n",
      "3.6136136136136137 0.1813588958348072\n",
      "3.6236236236236237 0.1814046543080379\n",
      "3.6336336336336337 0.18145026541076692\n",
      "3.6436436436436437 0.18149572999130936\n",
      "3.6536536536536537 0.1815410488921771\n",
      "3.6636636636636637 0.18158622295012283\n",
      "3.6736736736736737 0.1816312529961836\n",
      "3.6836836836836837 0.18167613985572512\n",
      "3.6936936936936937 0.18172088434848427\n",
      "3.7037037037037037 0.18176548728861192\n",
      "3.7137137137137137 0.1818099494847162\n",
      "3.7237237237237237 0.18185427173990346\n",
      "3.7337337337337337 0.18189845485182154\n",
      "3.7437437437437437 0.1819424996127001\n",
      "3.7537537537537538 0.1819864068093926\n",
      "3.7637637637637638 0.18203017722341652\n",
      "3.7737737737737738 0.18207381163099506\n",
      "3.7837837837837838 0.18211731080309618\n",
      "3.793793793793794 0.18216067550547324\n",
      "3.803803803803804 0.18220390649870422\n",
      "3.813813813813814 0.18224700453823162\n",
      "3.823823823823824 0.18228997037440117\n",
      "3.833833833833834 0.18233280475250016\n",
      "3.843843843843844 0.18237550841279648\n",
      "3.853853853853854 0.1824180820905763\n",
      "3.863863863863864 0.1824605265161821\n",
      "3.873873873873874 0.18250284241505008\n",
      "3.883883883883884 0.1825450305077474\n",
      "3.893893893893894 0.1825870915100088\n",
      "3.903903903903904 0.18262902613277404\n",
      "3.913913913913914 0.182670835082223\n",
      "3.923923923923924 0.18271251905981287\n",
      "3.933933933933934 0.18275407876231325\n",
      "3.943943943943944 0.18279551488184173\n",
      "3.953953953953954 0.18283682810589913\n",
      "3.963963963963964 0.1828780191174045\n",
      "3.973973973973974 0.18291908859472944\n",
      "3.983983983983984 0.18296003721173287\n",
      "3.993993993993994 0.1830008656377947\n",
      "4.004004004004004 0.18304157453784978\n",
      "4.014014014014014 0.1830821645724215\n",
      "4.024024024024024 0.18312263639765486\n",
      "4.034034034034034 0.1831629906653498\n",
      "4.044044044044044 0.18320322802299358\n",
      "4.054054054054054 0.18324334911379314\n",
      "4.064064064064064 0.18328335457670783\n",
      "4.074074074074074 0.18332324504648084\n",
      "4.084084084084084 0.18336302115367106\n",
      "4.094094094094094 0.1834026835246846\n",
      "4.104104104104104 0.18344223278180605\n",
      "4.114114114114114 0.18348166954322878\n",
      "4.124124124124124 0.18352099442308625\n",
      "4.134134134134134 0.1835602080314824\n",
      "4.1441441441441444 0.18359931097452123\n",
      "4.1541541541541545 0.18363830385433763\n",
      "4.1641641641641645 0.18367718726912646\n",
      "4.1741741741741745 0.18371596181317187\n",
      "4.1841841841841845 0.18375462807687706\n",
      "4.1941941941941945 0.18379318664679256\n",
      "4.2042042042042045 0.18383163810564593\n",
      "4.2142142142142145 0.1838699830323694\n",
      "4.2242242242242245 0.18390822200212847\n",
      "4.2342342342342345 0.18394635558634959\n",
      "4.2442442442442445 0.18398438435274905\n",
      "4.2542542542542545 0.18402230886535928\n",
      "4.2642642642642645 0.18406012968455693\n",
      "4.2742742742742745 0.1840978473670897\n",
      "4.2842842842842845 0.18413546246610374\n",
      "4.2942942942942945 0.18417297553116993\n",
      "4.3043043043043046 0.18421038710831034\n",
      "4.314314314314315 0.1842476977400247\n",
      "4.324324324324325 0.1842849079653164\n",
      "4.334334334334335 0.18432201831971856\n",
      "4.344344344344345 0.18435902933531928\n",
      "4.354354354354355 0.18439594154078703\n",
      "4.364364364364365 0.1844327554613966\n",
      "4.374374374374375 0.1844694716190531\n",
      "4.384384384384385 0.18450609053231784\n",
      "4.394394394394395 0.18454261271643183\n",
      "4.404404404404405 0.18457903868334122\n",
      "4.414414414414415 0.18461536894172076\n",
      "4.424424424424425 0.1846516039969986\n",
      "4.434434434434435 0.1846877443513789\n"
     ]
    },
    {
     "name": "stdout",
     "output_type": "stream",
     "text": [
      "4.444444444444445 0.18472379050386703\n",
      "4.454454454454455 0.1847597429502915\n",
      "4.464464464464465 0.18479560218332852\n",
      "4.474474474474475 0.1848313686925241\n",
      "4.484484484484485 0.18486704296431727\n",
      "4.494494494494495 0.18490262548206293\n",
      "4.504504504504505 0.18493811672605442\n",
      "4.514514514514515 0.1849735171735452\n",
      "4.524524524524525 0.18500882729877172\n",
      "4.534534534534535 0.18504404757297505\n",
      "4.544544544544545 0.18507917846442296\n",
      "4.554554554554555 0.1851142204384308\n",
      "4.564564564564565 0.185149173957384\n",
      "4.574574574574575 0.1851840394807585\n",
      "4.584584584584585 0.1852188174651423\n",
      "4.594594594594595 0.18525350836425591\n",
      "4.604604604604605 0.18528811262897388\n",
      "4.614614614614615 0.1853226307073444\n",
      "4.624624624624625 0.1853570630446107\n",
      "4.634634634634635 0.1853914100832305\n",
      "4.644644644644645 0.18542567226289672\n",
      "4.654654654654655 0.1854598500205573\n",
      "4.664664664664665 0.1854939437904341\n",
      "4.674674674674675 0.18552795400404407\n",
      "4.684684684684685 0.18556188109021743\n",
      "4.694694694694695 0.18559572547511743\n",
      "4.704704704704705 0.18562948758225983\n",
      "4.714714714714715 0.18566316783253095\n",
      "4.724724724724725 0.18569676664420767\n",
      "4.734734734734735 0.1857302844329751\n",
      "4.744744744744745 0.18576372161194607\n",
      "4.754754754754755 0.18579707859167838\n",
      "4.764764764764765 0.18583035578019413\n",
      "4.774774774774775 0.18586355358299744\n",
      "4.784784784784785 0.18589667240309188\n",
      "4.794794794794795 0.185929712640999\n",
      "4.804804804804805 0.18596267469477565\n",
      "4.814814814814815 0.1859955589600317\n",
      "4.824824824824825 0.18602836582994736\n",
      "4.834834834834835 0.18606109569528984\n",
      "4.844844844844845 0.18609374894443165\n",
      "4.854854854854855 0.1861263259633663\n",
      "4.864864864864865 0.18615882713572635\n",
      "4.874874874874875 0.1861912528427988\n",
      "4.884884884884885 0.1862236034635432\n",
      "4.894894894894895 0.18625587937460644\n",
      "4.904904904904905 0.18628808095034044\n",
      "4.914914914914915 0.1863202085628173\n",
      "4.924924924924925 0.18635226258184617\n",
      "4.934934934934935 0.18638424337498877\n",
      "4.944944944944945 0.18641615130757494\n",
      "4.954954954954955 0.18644798674271884\n",
      "4.964964964964965 0.1864797500413344\n",
      "4.974974974974975 0.18651144156215005\n",
      "4.984984984984985 0.18654306166172518\n",
      "4.994994994994995 0.18657461069446435\n",
      "5.005005005005005 0.1866060890126327\n",
      "5.015015015015015 0.18663749696637114\n",
      "5.025025025025025 0.1866688349037109\n",
      "5.035035035035035 0.186700103170588\n",
      "5.045045045045045 0.1867313021108584\n",
      "5.055055055055055 0.18676243206631213\n",
      "5.065065065065065 0.18679349337668755\n",
      "5.075075075075075 0.1868244863796862\n",
      "5.085085085085085 0.18685541141098586\n",
      "5.095095095095095 0.186886268804256\n",
      "5.105105105105105 0.18691705889117036\n",
      "5.115115115115115 0.18694778200142145\n",
      "5.125125125125125 0.18697843846273438\n",
      "5.135135135135135 0.18700902860087978\n",
      "5.145145145145145 0.18703955273968803\n",
      "5.155155155155155 0.18707001120106242\n",
      "5.165165165165165 0.18710040430499192\n",
      "5.175175175175175 0.18713073236956515\n",
      "5.185185185185185 0.1871609957109827\n",
      "5.195195195195195 0.187191194643571\n",
      "5.205205205205205 0.18722132947979414\n",
      "5.215215215215215 0.1872514005302674\n",
      "5.225225225225225 0.18728140810376978\n",
      "5.235235235235235 0.18731135250725608\n",
      "5.245245245245245 0.1873412340458701\n",
      "5.255255255255255 0.1873710530229567\n",
      "5.265265265265265 0.18740080974007378\n",
      "5.275275275275275 0.18743050449700513\n",
      "5.285285285285285 0.18746013759177158\n",
      "5.295295295295295 0.1874897093206442\n",
      "5.305305305305305 0.18751921997815524\n",
      "5.315315315315315 0.18754866985711002\n",
      "5.325325325325325 0.1875780592485996\n",
      "5.335335335335335 0.1876073884420108\n",
      "5.345345345345345 0.18763665772503946\n",
      "5.355355355355355 0.1876658673837006\n",
      "5.365365365365365 0.18769501770234057\n",
      "5.375375375375375 0.18772410896364772\n",
      "5.385385385385385 0.18775314144866423\n",
      "5.395395395395395 0.18778211543679663\n",
      "5.405405405405405 0.1878110312058273\n",
      "5.415415415415415 0.1878398890319249\n",
      "5.425425425425425 0.187868689189656\n",
      "5.435435435435435 0.18789743195199474\n",
      "5.445445445445445 0.18792611759033478\n",
      "5.455455455455455 0.1879547463744986\n",
      "5.465465465465465 0.1879833185727494\n",
      "5.475475475475475 0.1880118344518002\n",
      "5.485485485485485 0.18804029427682528\n",
      "5.495495495495495 0.1880686983114699\n",
      "5.505505505505505 0.18809704681786052\n",
      "5.515515515515515 0.1881253400566152\n",
      "5.525525525525525 0.18815357828685345\n",
      "5.535535535535535 0.1881817617662064\n",
      "5.545545545545545 0.1882098907508262\n",
      "5.555555555555555 0.18823796549539654\n",
      "5.565565565565565 0.18826598625314214\n",
      "5.575575575575575 0.1882939532758381\n",
      "5.585585585585585 0.18832186681381993\n",
      "5.595595595595595 0.1883497271159929\n",
      "5.605605605605605 0.18837753442984145\n",
      "5.615615615615615 0.18840528900143888\n",
      "5.625625625625625 0.1884329910754562\n",
      "5.635635635635635 0.18846064089517173\n",
      "5.645645645645645 0.18848823870248024\n",
      "5.655655655655655 0.18851578473790198\n",
      "5.665665665665665 0.18854327924059164\n",
      "5.675675675675675 0.1885707224483476\n",
      "5.685685685685685 0.1885981145976207\n",
      "5.6956956956956954 0.18862545592352267\n",
      "5.7057057057057055 0.18865274665983586\n",
      "5.7157157157157155 0.18867998703902084\n",
      "5.7257257257257255 0.18870717729222597\n",
      "5.7357357357357355 0.18873431764929544\n",
      "5.7457457457457455 0.188761408338778\n",
      "5.7557557557557555 0.18878844958793523\n",
      "5.7657657657657655 0.18881544162275019\n",
      "5.7757757757757755 0.1888423846679356\n",
      "5.7857857857857855 0.18886927894694197\n",
      "5.7957957957957955 0.1888961246819663\n",
      "5.8058058058058055 0.18892292209395944\n",
      "5.8158158158158155 0.18894967140263497\n",
      "5.8258258258258255 0.18897637282647667\n",
      "5.8358358358358355 0.18900302658274687\n",
      "5.8458458458458455 0.18902963288749386\n",
      "5.8558558558558556 0.1890561919555603\n",
      "5.865865865865866 0.18908270400059077\n",
      "5.875875875875876 0.18910916923503954\n",
      "5.885885885885886 0.18913558787017776\n",
      "5.895895895895896 0.18916196011610203\n",
      "5.905905905905906 0.18918828618174122\n",
      "5.915915915915916 0.18921456627486416\n",
      "5.925925925925926 0.1892408006020873\n",
      "5.935935935935936 0.18926698936888192\n",
      "5.945945945945946 0.18929313277958126\n",
      "5.955955955955956 0.1893192310373884\n",
      "5.965965965965966 0.18934528434438283\n",
      "5.975975975975976 0.18937129290152832\n",
      "5.985985985985986 0.1893972569086792\n",
      "5.995995995995996 0.18942317656458843\n",
      "6.006006006006006 0.1894490520669136\n",
      "6.016016016016016 0.189474883612225\n",
      "6.026026026026026 0.1895006713960115\n",
      "6.036036036036036 0.18952641561268807\n",
      "6.046046046046046 0.1895521164556025\n",
      "6.056056056056056 0.18957777411704213\n",
      "6.066066066066066 0.18960338878824032\n",
      "6.076076076076076 0.18962896065938364\n",
      "6.086086086086086 0.18965448991961814\n",
      "6.096096096096096 0.1896799767570559\n",
      "6.106106106106106 0.18970542135878193\n",
      "6.116116116116116 0.18973082391086019\n",
      "6.126126126126126 0.18975618459834015\n",
      "6.136136136136136 0.18978150360526383\n",
      "6.146146146146146 0.18980678111467097\n",
      "6.156156156156156 0.18983201730860627\n",
      "6.166166166166166 0.18985721236812558\n",
      "6.176176176176176 0.18988236647330123\n",
      "6.186186186186186 0.18990747980322967\n",
      "6.196196196196196 0.189932552536036\n",
      "6.206206206206206 0.18995758484888137\n",
      "6.216216216216216 0.18998257691796813\n",
      "6.226226226226226 0.19000752891854647\n",
      "6.236236236236236 0.1900324410249197\n",
      "6.246246246246246 0.19005731341045085\n",
      "6.256256256256256 0.19008214624756808\n",
      "6.266266266266266 0.19010693970777073\n",
      "6.276276276276276 0.19013169396163457\n",
      "6.286286286286286 0.19015640917881868\n",
      "6.296296296296296 0.19018108552806984\n",
      "6.306306306306306 0.19020572317722925\n",
      "6.316316316316316 0.19023032229323739\n",
      "6.326326326326326 0.19025488304213992\n",
      "6.336336336336336 0.19027940558909354\n",
      "6.346346346346346 0.1903038900983707\n",
      "6.356356356356356 0.190328336733366\n",
      "6.366366366366366 0.19035274565660076\n",
      "6.376376376376376 0.19037711702972895\n",
      "6.386386386386386 0.19040145101354242\n",
      "6.396396396396396 0.19042574776797608\n",
      "6.406406406406406 0.19045000745211332\n",
      "6.416416416416417 0.19047423022419122\n",
      "6.426426426426427 0.19049841624160552\n",
      "6.436436436436437 0.1905225656609163\n",
      "6.446446446446447 0.19054667863785255\n",
      "6.456456456456457 0.19057075532731746\n",
      "6.466466466466467 0.19059479588339395\n",
      "6.476476476476477 0.19061880045934854\n",
      "6.486486486486487 0.19064276920763776\n",
      "6.496496496496497 0.19066670227991192\n",
      "6.506506506506507 0.1906905998270207\n",
      "6.516516516516517 0.1907144619990178\n",
      "6.526526526526527 0.19073828894516576\n",
      "6.536536536536537 0.19076208081394092\n",
      "6.546546546546547 0.19078583775303806\n",
      "6.556556556556557 0.19080955990937531\n",
      "6.566566566566567 0.1908332474290985\n",
      "6.576576576576577 0.1908569004575862\n",
      "6.586586586586587 0.19088051913945453\n",
      "6.596596596596597 0.1909041036185612\n",
      "6.606606606606607 0.1909276540380104\n",
      "6.616616616616617 0.19095117054015753\n",
      "6.626626626626627 0.1909746532666136\n",
      "6.636636636636637 0.19099810235824946\n",
      "6.646646646646647 0.19102151795520056\n",
      "6.656656656656657 0.1910449001968715\n",
      "6.666666666666667 0.1910682492219397\n",
      "6.676676676676677 0.19109156516836098\n",
      "6.686686686686687 0.1911148481733726\n",
      "6.696696696696697 0.19113809837349857\n",
      "6.706706706706707 0.19116131590455326\n",
      "6.716716716716717 0.19118450090164632\n",
      "6.726726726726727 0.19120765349918606\n"
     ]
    },
    {
     "name": "stdout",
     "output_type": "stream",
     "text": [
      "6.736736736736737 0.19123077383088447\n",
      "6.746746746746747 0.19125386202976072\n",
      "6.756756756756757 0.19127691822814588\n",
      "6.766766766766767 0.1912999425576863\n",
      "6.776776776776777 0.19132293514934848\n",
      "6.786786786786787 0.19134589613342265\n",
      "6.796796796796797 0.191368825639527\n",
      "6.806806806806807 0.19139172379661146\n",
      "6.816816816816817 0.19141459073296163\n",
      "6.826826826826827 0.1914374265762034\n",
      "6.836836836836837 0.1914602314533058\n",
      "6.846846846846847 0.19148300549058556\n",
      "6.856856856856857 0.19150574881371127\n",
      "6.866866866866867 0.19152846154770625\n",
      "6.876876876876877 0.1915511438169532\n",
      "6.886886886886887 0.1915737957451976\n",
      "6.896896896896897 0.19159641745555173\n",
      "6.906906906906907 0.19161900907049798\n",
      "6.916916916916917 0.19164157071189297\n",
      "6.926926926926927 0.19166410250097116\n",
      "6.936936936936937 0.19168660455834813\n",
      "6.946946946946947 0.19170907700402512\n",
      "6.956956956956957 0.19173151995739116\n",
      "6.966966966966967 0.19175393353722828\n",
      "6.976976976976977 0.1917763178617141\n",
      "6.986986986986987 0.19179867304842546\n",
      "6.996996996996997 0.1918209992143422\n",
      "7.007007007007007 0.19184329647585052\n",
      "7.017017017017017 0.19186556494874654\n",
      "7.027027027027027 0.19188780474823944\n",
      "7.037037037037037 0.1919100159889551\n",
      "7.047047047047047 0.1919321987849398\n",
      "7.057057057057057 0.19195435324966317\n",
      "7.067067067067067 0.19197647949602153\n",
      "7.077077077077077 0.1919985776363414\n",
      "7.087087087087087 0.19202064778238284\n",
      "7.097097097097097 0.19204269004534266\n",
      "7.107107107107107 0.19206470453585783\n",
      "7.117117117117117 0.19208669136400824\n",
      "7.127127127127127 0.19210865063932067\n",
      "7.137137137137137 0.19213058247077144\n",
      "7.147147147147147 0.1921524869667896\n",
      "7.157157157157157 0.19217436423526055\n",
      "7.167167167167167 0.19219621438352863\n",
      "7.177177177177177 0.19221803751840055\n",
      "7.187187187187187 0.19223983374614856\n",
      "7.197197197197197 0.19226160317251303\n",
      "7.207207207207207 0.1922833459027063\n",
      "7.217217217217217 0.19230506204141481\n",
      "7.227227227227227 0.19232675169280317\n",
      "7.237237237237237 0.19234841496051605\n",
      "7.247247247247247 0.19237005194768197\n",
      "7.257257257257257 0.19239166275691585\n",
      "7.267267267267267 0.19241324749032224\n",
      "7.277277277277277 0.19243480624949783\n",
      "7.287287287287287 0.19245633913553467\n",
      "7.297297297297297 0.1924778462490233\n",
      "7.307307307307307 0.19249932769005476\n",
      "7.317317317317317 0.19252078355822438\n",
      "7.327327327327327 0.19254221395263407\n",
      "7.337337337337337 0.19256361897189506\n",
      "7.347347347347347 0.19258499871413123\n",
      "7.357357357357357 0.19260635327698136\n",
      "7.367367367367367 0.19262768275760195\n",
      "7.377377377377377 0.19264898725267016\n",
      "7.387387387387387 0.19267026685838662\n",
      "7.397397397397397 0.1926915216704777\n",
      "7.407407407407407 0.1927127517841985\n",
      "7.4174174174174174 0.19273395729433546\n",
      "7.4274274274274275 0.19275513829520902\n",
      "7.4374374374374375 0.19277629488067624\n",
      "7.4474474474474475 0.19279742714413345\n",
      "7.4574574574574575 0.1928185351785187\n",
      "7.4674674674674675 0.19283961907631458\n",
      "7.4774774774774775 0.19286067892955044\n",
      "7.4874874874874875 0.19288171482980548\n",
      "7.4974974974974975 0.19290272686821072\n",
      "7.5075075075075075 0.19292371513545195\n",
      "7.5175175175175175 0.19294467972177168\n",
      "7.5275275275275275 0.19296562071697243\n",
      "7.5375375375375375 0.1929865382104182\n",
      "7.5475475475475475 0.1930074322910381\n",
      "7.5575575575575575 0.19302830304732782\n",
      "7.5675675675675675 0.19304915056735222\n",
      "7.5775775775775776 0.19306997493874828\n",
      "7.587587587587588 0.1930907762487269\n",
      "7.597597597597598 0.19311155458407536\n",
      "7.607607607607608 0.1931323100311602\n",
      "7.617617617617618 0.19315304267592873\n",
      "7.627627627627628 0.1931737526039122\n",
      "7.637637637637638 0.19319443990022755\n",
      "7.647647647647648 0.19321510464957972\n",
      "7.657657657657658 0.1932357469362643\n",
      "7.667667667667668 0.19325636684416975\n",
      "7.677677677677678 0.19327696445677905\n",
      "7.687687687687688 0.19329753985717285\n",
      "7.697697697697698 0.19331809312803094\n",
      "7.707707707707708 0.19333862435163507\n",
      "7.717717717717718 0.19335913360987061\n",
      "7.727727727727728 0.19337962098422903\n",
      "7.737737737737738 0.19340008655581023\n",
      "7.747747747747748 0.1934205304053243\n",
      "7.757757757757758 0.1934409526130938\n",
      "7.767767767767768 0.1934613532590562\n",
      "7.777777777777778 0.1934817324227656\n",
      "7.787787787787788 0.19350209018339518\n",
      "7.797797797797798 0.19352242661973879\n",
      "7.807807807807808 0.19354274181021372\n",
      "7.817817817817818 0.193563035832862\n",
      "7.827827827827828 0.19358330876535335\n",
      "7.837837837837838 0.19360356068498621\n",
      "7.847847847847848 0.1936237916686907\n",
      "7.857857857857858 0.19364400179302993\n",
      "7.867867867867868 0.1936641911342025\n",
      "7.877877877877878 0.19368435976804416\n",
      "7.887887887887888 0.19370450777003004\n",
      "7.897897897897898 0.19372463521527628\n",
      "7.907907907907908 0.19374474217854248\n",
      "7.917917917917918 0.1937648287342332\n",
      "7.927927927927928 0.19378489495639994\n",
      "7.937937937937938 0.1938049409187434\n",
      "7.947947947947948 0.1938249666946152\n",
      "7.957957957957958 0.19384497235701928\n",
      "7.967967967967968 0.19386495797861472\n",
      "7.977977977977978 0.19388492363171694\n",
      "7.987987987987988 0.19390486938829993\n",
      "7.997997997997998 0.19392479531999757\n",
      "8.008008008008009 0.19394470149810583\n",
      "8.018018018018019 0.19396458799358512\n",
      "8.028028028028029 0.193984454877061\n",
      "8.038038038038039 0.1940043022188266\n",
      "8.048048048048049 0.1940241300888448\n",
      "8.058058058058059 0.1940439385567492\n",
      "8.068068068068069 0.19406372769184618\n",
      "8.078078078078079 0.1940834975631171\n",
      "8.088088088088089 0.19410324823921932\n",
      "8.098098098098099 0.19412297978848875\n",
      "8.108108108108109 0.1941426922789407\n",
      "8.118118118118119 0.19416238577827222\n",
      "8.128128128128129 0.19418206035386373\n",
      "8.138138138138139 0.1942017160727805\n",
      "8.148148148148149 0.19422135300177443\n",
      "8.158158158158159 0.19424097120728584\n",
      "8.168168168168169 0.19426057075544503\n",
      "8.178178178178179 0.19428015171207386\n",
      "8.188188188188189 0.19429971414268749\n",
      "8.198198198198199 0.19431925811249595\n",
      "8.208208208208209 0.19433878368640625\n",
      "8.218218218218219 0.19435829092902293\n",
      "8.228228228228229 0.19437777990465088\n",
      "8.238238238238239 0.19439725067729585\n",
      "8.248248248248249 0.19441670331066702\n",
      "8.258258258258259 0.19443613786817787\n",
      "8.268268268268269 0.19445555441294798\n",
      "8.278278278278279 0.19447495300780474\n",
      "8.288288288288289 0.1944943337152844\n",
      "8.298298298298299 0.19451369659763457\n",
      "8.308308308308309 0.1945330417168146\n",
      "8.318318318318319 0.19455236913449786\n",
      "8.328328328328329 0.1945716789120731\n",
      "8.338338338338339 0.19459097111064583\n",
      "8.348348348348349 0.19461024579103983\n",
      "8.358358358358359 0.1946295030137986\n",
      "8.368368368368369 0.19464874283918737\n",
      "8.378378378378379 0.19466796532719344\n",
      "8.388388388388389 0.19468717053752893\n",
      "8.398398398398399 0.1947063585296313\n",
      "8.408408408408409 0.19472552936266513\n",
      "8.418418418418419 0.19474468309552373\n",
      "8.428428428428429 0.19476381978683\n",
      "8.438438438438439 0.1947829394949385\n",
      "8.448448448448449 0.19480204227793654\n",
      "8.458458458458459 0.19482112819364555\n",
      "8.468468468468469 0.19484019729962254\n",
      "8.478478478478479 0.1948592496531616\n",
      "8.488488488488489 0.19487828531129478\n",
      "8.498498498498499 0.19489730433079439\n",
      "8.508508508508509 0.19491630676817323\n",
      "8.518518518518519 0.1949352926796869\n",
      "8.528528528528529 0.19495426212133452\n",
      "8.538538538538539 0.1949732151488605\n",
      "8.548548548548549 0.19499215181775542\n",
      "8.558558558558559 0.19501107218325772\n",
      "8.568568568568569 0.19502997630035485\n",
      "8.578578578578579 0.19504886422378484\n",
      "8.588588588588589 0.19506773600803676\n",
      "8.598598598598599 0.19508659170735315\n",
      "8.608608608608609 0.1951054313757307\n",
      "8.618618618618619 0.19512425506692124\n",
      "8.62862862862863 0.19514306283443364\n",
      "8.63863863863864 0.19516185473153483\n",
      "8.64864864864865 0.19518063081125064\n",
      "8.65865865865866 0.19519939112636783\n",
      "8.66866866866867 0.19521813572943447\n",
      "8.67867867867868 0.19523686467276205\n",
      "8.68868868868869 0.1952555780084257\n",
      "8.6986986986987 0.1952742757882664\n",
      "8.70870870870871 0.19529295806389174\n",
      "8.71871871871872 0.19531162488667664\n",
      "8.72872872872873 0.19533027630776553\n",
      "8.73873873873874 0.19534891237807286\n",
      "8.74874874874875 0.19536753314828428\n",
      "8.75875875875876 0.19538613866885818\n",
      "8.76876876876877 0.19540472899002675\n",
      "8.77877877877878 0.1954233041617967\n",
      "8.78878878878879 0.19544186423395116\n",
      "8.7987987987988 0.19546040925604996\n",
      "8.80880880880881 0.1954789392774316\n",
      "8.81881881881882 0.19549745434721416\n",
      "8.82882882882883 0.1955159545142957\n",
      "8.83883883883884 0.19553443982735624\n",
      "8.84884884884885 0.19555291033485908\n",
      "8.85885885885886 0.1955713660850506\n",
      "8.86886886886887 0.1955898071259629\n",
      "8.87887887887888 0.19560823350541365\n",
      "8.88888888888889 0.19562664527100787\n",
      "8.8988988988989 0.19564504247013909\n",
      "8.90890890890891 0.19566342514998988\n",
      "8.91891891891892 0.1956817933575333\n",
      "8.92892892892893 0.19570014713953407\n",
      "8.93893893893894 0.19571848654254914\n",
      "8.94894894894895 0.19573681161292933\n",
      "8.95895895895896 0.19575512239681983\n",
      "8.96896896896897 0.19577341894016162\n",
      "8.97897897897898 0.19579170128869255\n",
      "8.98898898898899 0.19580996948794793\n",
      "8.998998998999 0.19582822358326193\n",
      "9.00900900900901 0.19584646361976848\n",
      "9.01901901901902 0.19586468964240228\n",
      "9.02902902902903 0.1958829016959\n",
      "9.03903903903904 0.19590109982480058\n",
      "9.04904904904905 0.19591928407344733\n",
      "9.05905905905906 0.19593745448598793\n"
     ]
    },
    {
     "name": "stdout",
     "output_type": "stream",
     "text": [
      "9.06906906906907 0.19595561110637602\n",
      "9.07907907907908 0.19597375397837175\n",
      "9.08908908908909 0.19599188314554306\n",
      "9.0990990990991 0.19600999865126656\n",
      "9.10910910910911 0.19602810053872857\n",
      "9.11911911911912 0.1960461888509257\n",
      "9.12912912912913 0.19606426363066634\n",
      "9.13913913913914 0.19608232492057115\n",
      "9.14914914914915 0.19610037276307427\n",
      "9.15915915915916 0.1961184072004242\n",
      "9.16916916916917 0.1961364282746847\n",
      "9.17917917917918 0.1961544360277355\n",
      "9.18918918918919 0.19617243050127378\n",
      "9.1991991991992 0.1961904117368143\n",
      "9.20920920920921 0.19620837977569117\n",
      "9.21921921921922 0.1962263346590581\n",
      "9.22922922922923 0.19624427642788933\n",
      "9.23923923923924 0.19626220512298098\n",
      "9.24924924924925 0.19628012078495163\n",
      "9.25925925925926 0.1962980234542432\n",
      "9.26926926926927 0.19631591317112163\n",
      "9.27927927927928 0.19633378997567827\n",
      "9.28928928928929 0.1963516539078304\n",
      "9.2992992992993 0.19636950500732206\n",
      "9.30930930930931 0.1963873433137251\n",
      "9.31931931931932 0.19640516886643974\n",
      "9.32932932932933 0.1964229817046958\n",
      "9.33933933933934 0.19644078186755337\n",
      "9.34934934934935 0.19645856939390338\n",
      "9.35935935935936 0.19647634432246894\n",
      "9.36936936936937 0.19649410669180584\n",
      "9.37937937937938 0.19651185654030326\n",
      "9.38938938938939 0.19652959390618494\n",
      "9.3993993993994 0.19654731882750995\n",
      "9.40940940940941 0.1965650313421732\n",
      "9.41941941941942 0.1965827314879064\n",
      "9.42942942942943 0.19660041930227892\n",
      "9.43943943943944 0.19661809482269874\n",
      "9.44944944944945 0.19663575808641276\n",
      "9.45945945945946 0.19665340913050808\n",
      "9.46946946946947 0.19667104799191262\n",
      "9.47947947947948 0.19668867470739565\n",
      "9.48948948948949 0.196706289313569\n",
      "9.4994994994995 0.1967238918468876\n",
      "9.50950950950951 0.19674148234365024\n",
      "9.51951951951952 0.1967590608400002\n",
      "9.52952952952953 0.19677662737192636\n",
      "9.53953953953954 0.19679418197526374\n",
      "9.54954954954955 0.1968117246856942\n",
      "9.55955955955956 0.19682925553874725\n",
      "9.56956956956957 0.19684677456980101\n",
      "9.57957957957958 0.19686428181408233\n",
      "9.58958958958959 0.19688177730666834\n",
      "9.5995995995996 0.1968992610824866\n",
      "9.60960960960961 0.19691673317631592\n",
      "9.61961961961962 0.19693419362278738\n",
      "9.62962962962963 0.19695164245638455\n",
      "9.63963963963964 0.19696907971144473\n",
      "9.64964964964965 0.19698650542215926\n",
      "9.65965965965966 0.1970039196225745\n",
      "9.66966966966967 0.19702132234659234\n",
      "9.67967967967968 0.19703871362797087\n",
      "9.68968968968969 0.1970560935003255\n",
      "9.6996996996997 0.19707346199712888\n",
      "9.70970970970971 0.19709081915171245\n",
      "9.71971971971972 0.19710816499726652\n",
      "9.72972972972973 0.19712549956684106\n",
      "9.73973973973974 0.19714282289334661\n",
      "9.74974974974975 0.19716013500955482\n",
      "9.75975975975976 0.19717743594809883\n",
      "9.76976976976977 0.19719472574147465\n",
      "9.77977977977978 0.19721200442204095\n",
      "9.78978978978979 0.19722927202202045\n",
      "9.7997997997998 0.19724652857349995\n",
      "9.80980980980981 0.19726377410843154\n",
      "9.81981981981982 0.19728100865863307\n",
      "9.82982982982983 0.19729823225578852\n",
      "9.83983983983984 0.197315444931449\n",
      "9.84984984984985 0.19733264671703327\n",
      "9.85985985985986 0.19734983764382813\n",
      "9.86986986986987 0.19736701774298943\n",
      "9.87987987987988 0.19738418704554253\n",
      "9.88988988988989 0.19740134558238293\n",
      "9.8998998998999 0.19741849338427694\n",
      "9.90990990990991 0.19743563048186188\n",
      "9.91991991991992 0.1974527569056477\n",
      "9.92992992992993 0.1974698726860163\n",
      "9.93993993993994 0.19748697785322333\n",
      "9.94994994994995 0.19750407243739787\n",
      "9.95995995995996 0.19752115646854335\n",
      "9.96996996996997 0.19753822997653883\n",
      "9.97997997997998 0.1975552929911382\n",
      "9.98998998998999 0.197572345541972\n",
      "10.0 0.19758938765854736\n"
     ]
    }
   ],
   "source": [
    "for alpha in np.linspace(0, 10, num=1000):\n",
    "    estimator = Ridge(alpha=alpha)\n",
    "    X = np.concatenate([Xf_1, Xf_1**2, np.sqrt(Xf_1), np.sin(Xf_1), np.log(Xf_1)], axis=1)\n",
    "    X = x_scaler.fit_transform(X)\n",
    "    y = yf_1\n",
    "    y = y_scaler.fit_transform(y.reshape(-1, 1))\n",
    "    print(alpha, np.mean(-1 * cross_val_score(estimator=estimator, X=X, y=y, scoring='neg_mean_squared_error', cv=10)))"
   ]
  },
  {
   "cell_type": "markdown",
   "metadata": {},
   "source": [
    "Let's try this with some train_test_splits."
   ]
  },
  {
   "cell_type": "code",
   "execution_count": 182,
   "metadata": {},
   "outputs": [],
   "source": [
    "from sklearn.model_selection import train_test_split\n",
    "from sklearn.metrics import mean_squared_error"
   ]
  },
  {
   "cell_type": "code",
   "execution_count": 185,
   "metadata": {},
   "outputs": [],
   "source": [
    "errors = []\n",
    "for _ in range(100):\n",
    "    estimator = Ridge(alpha=0.2)\n",
    "    X = np.concatenate([Xf_1, Xf_1**2, np.sqrt(Xf_1), np.sin(Xf_1), np.log(Xf_1)], axis=1)\n",
    "    y = yf_1\n",
    "    X_train, X_test, y_train, y_test = train_test_split(X, y, test_size=0.4)\n",
    "    X_train_scaled = x_scaler.fit_transform(X_train)\n",
    "    y_train_scaled = y_scaler.fit_transform(y_train.reshape(-1, 1))\n",
    "    X_test_scaled = x_scaler.transform(X_test)\n",
    "    y_test_scaled = y_scaler.transform(y_test.reshape(-1, 1))\n",
    "    estimator.fit(X_train_scaled, y_train_scaled)\n",
    "    y_pred = estimator.predict(X_test_scaled)\n",
    "    error = mean_squared_error(y_test_scaled, y_pred)\n",
    "    errors.append(error)"
   ]
  },
  {
   "cell_type": "code",
   "execution_count": 187,
   "metadata": {},
   "outputs": [
    {
     "data": {
      "text/plain": [
       "(array([ 8., 22., 25., 25.,  6.,  7.,  3.,  2.,  1.,  1.]),\n",
       " array([0.08344044, 0.11487095, 0.14630145, 0.17773196, 0.20916246,\n",
       "        0.24059296, 0.27202347, 0.30345397, 0.33488448, 0.36631498,\n",
       "        0.39774549]),\n",
       " <a list of 10 Patch objects>)"
      ]
     },
     "execution_count": 187,
     "metadata": {},
     "output_type": "execute_result"
    },
    {
     "data": {
      "image/png": "[encoded data removed]",
      "text/plain": [
       "<Figure size 432x288 with 1 Axes>"
      ]
     },
     "metadata": {},
     "output_type": "display_data"
    }
   ],
   "source": [
    "plt.hist(errors)"
   ]
  },
  {
   "cell_type": "code",
   "execution_count": 188,
   "metadata": {},
   "outputs": [
    {
     "data": {
      "text/plain": [
       "0.179088603539867"
      ]
     },
     "execution_count": 188,
     "metadata": {},
     "output_type": "execute_result"
    }
   ],
   "source": [
    "np.mean(errors)"
   ]
  },
  {
   "cell_type": "markdown",
   "metadata": {},
   "source": [
    "Nice! It looks like our error isn't too far off from our prior (illegitimate) cross-validated error. There is a bit of a tail on the right though, and I'm not sure what to make of that..."
   ]
  },
  {
   "cell_type": "code",
   "execution_count": 193,
   "metadata": {},
   "outputs": [
    {
     "data": {
      "text/plain": [
       "array([0.10191512, 0.31090207])"
      ]
     },
     "execution_count": 193,
     "metadata": {},
     "output_type": "execute_result"
    }
   ],
   "source": [
    "# 95% confidence interval\n",
    "np.quantile(errors, [0.025, 0.975])"
   ]
  }
 ],
 "metadata": {
  "kernelspec": {
   "display_name": "Python 3",
   "language": "python",
   "name": "python3"
  },
  "language_info": {
   "codemirror_mode": {
    "name": "ipython",
    "version": 3
   },
   "file_extension": ".py",
   "mimetype": "text/x-python",
   "name": "python",
   "nbconvert_exporter": "python",
   "pygments_lexer": "ipython3",
   "version": "3.7.3"
  }
 },
 "nbformat": 4,
 "nbformat_minor": 2
}
